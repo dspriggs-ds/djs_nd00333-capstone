{
  "cells": [
    {
      "cell_type": "markdown",
      "source": [
        "# Automated ML\n",
        "\n",
        "TODO: Import Dependencies. In the cell below, import all the dependencies that you will need to complete the project."
      ],
      "metadata": {}
    },
    {
      "cell_type": "code",
      "source": [
        "import sklearn\n",
        "\n",
        "from azureml.core import Dataset, Environment, Experiment, Workspace\n",
        "from azureml.core.conda_dependencies import CondaDependencies\n",
        "from azureml.core.model import InferenceConfig\n",
        "from azureml.core.webservice import AciWebservice\n",
        "from azureml.train.automl import AutoMLConfig\n",
        "from azureml.widgets import RunDetails"
      ],
      "outputs": [],
      "execution_count": 1,
      "metadata": {
        "gather": {
          "logged": 1606078766543
        },
        "jupyter": {
          "outputs_hidden": false,
          "source_hidden": false
        },
        "nteract": {
          "transient": {
            "deleting": false
          }
        }
      }
    },
    {
      "cell_type": "markdown",
      "source": [
        "## Dataset\n",
        "\n",
        "### Overview\n",
        "In this experiment we will use the Azure Machine Learning Services and AutoML functionality to predict Heart failure Mortaility.\n",
        "\n",
        "\n",
        "TODO: Get data. In the cell below, write code to access the data you will be using in this project. Remember that the dataset needs to be external."
      ],
      "metadata": {}
    },
    {
      "cell_type": "code",
      "source": [
        "ws = Workspace.from_config()"
      ],
      "outputs": [],
      "execution_count": 2,
      "metadata": {
        "collapsed": true,
        "jupyter": {
          "source_hidden": false,
          "outputs_hidden": false
        },
        "nteract": {
          "transient": {
            "deleting": false
          }
        },
        "gather": {
          "logged": 1606078770572
        }
      }
    },
    {
      "cell_type": "code",
      "source": [
        "dataset = Dataset.get_by_name(ws, name='heartfailure')\n",
        "heart_failure = dataset.to_pandas_dataframe()"
      ],
      "outputs": [],
      "execution_count": 3,
      "metadata": {
        "collapsed": true,
        "gather": {
          "logged": 1606078780997
        },
        "jupyter": {
          "outputs_hidden": false,
          "source_hidden": false
        },
        "nteract": {
          "transient": {
            "deleting": false
          }
        }
      }
    },
    {
      "cell_type": "markdown",
      "source": [
        "## Create Experiment"
      ],
      "metadata": {
        "nteract": {
          "transient": {
            "deleting": false
          }
        }
      }
    },
    {
      "cell_type": "code",
      "source": [
        "# choose a name for experiment\n",
        "experiment_name = 'automl_heartfailure'\n",
        "experiment=Experiment(ws, experiment_name)\n",
        "experiment"
      ],
      "outputs": [
        {
          "output_type": "execute_result",
          "execution_count": 4,
          "data": {
            "text/plain": "Experiment(Name: automl_heartfailure,\nWorkspace: davidudacitycapstone)",
            "text/html": "<table style=\"width:100%\"><tr><th>Name</th><th>Workspace</th><th>Report Page</th><th>Docs Page</th></tr><tr><td>automl_heartfailure</td><td>davidudacitycapstone</td><td><a href=\"https://ml.azure.com/experiments/automl_heartfailure?wsid=/subscriptions/641a5604-2a7e-401d-a98d-ee5182f46af8/resourcegroups/djs-test-e/workspaces/davidudacitycapstone\" target=\"_blank\" rel=\"noopener\">Link to Azure Machine Learning studio</a></td><td><a href=\"https://docs.microsoft.com/en-us/python/api/azureml-core/azureml.core.experiment.Experiment?view=azure-ml-py\" target=\"_blank\" rel=\"noopener\">Link to Documentation</a></td></tr></table>"
          },
          "metadata": {}
        }
      ],
      "execution_count": 4,
      "metadata": {
        "gather": {
          "logged": 1606078800193
        },
        "jupyter": {
          "outputs_hidden": false,
          "source_hidden": false
        },
        "nteract": {
          "transient": {
            "deleting": false
          }
        }
      }
    },
    {
      "cell_type": "markdown",
      "source": [
        "## AutoML Configuration\r\n",
        "\r\n",
        "TODO: Explain why you chose the automl settings and cofiguration you used below"
      ],
      "metadata": {
        "nteract": {
          "transient": {
            "deleting": false
          }
        }
      }
    },
    {
      "cell_type": "code",
      "source": [
        "\r\n",
        "# TODO: Put your automl config here\r\n",
        "automl_settings = {\r\n",
        "    \"task\": 'classification',\r\n",
        "    \"iterations\": 30,\r\n",
        "    \"experiment_timeout_minutes\": 15,\r\n",
        "    \"primary_metric\": 'accuracy',\r\n",
        "    \"training_data\": dataset,\r\n",
        "    \"label_column_name\": 'DEATH_EVENT',\r\n",
        "    \"n_cross_validations\": 3,\r\n",
        "    \"max_concurrent_iterations\": 8,\r\n",
        "    \"max_cores_per_iteration\": -1\r\n",
        "}\r\n",
        "\r\n",
        "\r\n",
        "automl_config = AutoMLConfig(**automl_settings)"
      ],
      "outputs": [],
      "execution_count": 5,
      "metadata": {
        "collapsed": true,
        "jupyter": {
          "source_hidden": false,
          "outputs_hidden": false
        },
        "nteract": {
          "transient": {
            "deleting": false
          }
        },
        "gather": {
          "logged": 1606078804904
        }
      }
    },
    {
      "cell_type": "markdown",
      "source": [
        "## Run Details\n",
        "\n",
        "TODO: In the cell below, use the `RunDetails` widget to show the different experiments."
      ],
      "metadata": {}
    },
    {
      "cell_type": "code",
      "source": [
        "from azureml.widgets import RunDetails\n",
        "\n",
        "remote_run = experiment.submit(automl_config)\n",
        "RunDetails(remote_run).show()\n",
        "remote_run.wait_for_completion(show_output=False)"
      ],
      "outputs": [
        {
          "output_type": "stream",
          "name": "stderr",
          "text": [
            "WARNING - Running on local machine. Note that local runs always run synchronously even if you use the parameter 'show_output=False'\n"
          ]
        },
        {
          "output_type": "display_data",
          "data": {
            "text/plain": "_AutoMLWidget(widget_settings={'childWidgetDisplay': 'popup', 'send_telemetry': False, 'log_level': 'INFO', 's…",
            "application/vnd.jupyter.widget-view+json": {
              "version_major": 2,
              "version_minor": 0,
              "model_id": "ff3df5c1c00048bb8f257394c4dd6317"
            }
          },
          "metadata": {}
        },
        {
          "output_type": "display_data",
          "data": {
            "application/aml.mini.widget.v1": "{\"status\": \"Completed\", \"workbench_run_details_uri\": \"https://ml.azure.com/experiments/automl_heartfailure/runs/AutoML_3bca6b22-132a-4b79-8deb-fadb9dcd3e3d?wsid=/subscriptions/641a5604-2a7e-401d-a98d-ee5182f46af8/resourcegroups/djs-test-e/workspaces/davidudacitycapstone\", \"run_id\": \"AutoML_3bca6b22-132a-4b79-8deb-fadb9dcd3e3d\", \"run_properties\": {\"run_id\": \"AutoML_3bca6b22-132a-4b79-8deb-fadb9dcd3e3d\", \"created_utc\": \"2020-11-22T21:02:09.8815Z\", \"properties\": {\"num_iterations\": \"30\", \"training_type\": \"TrainFull\", \"acquisition_function\": \"EI\", \"primary_metric\": \"accuracy\", \"train_split\": \"0\", \"acquisition_parameter\": \"0\", \"num_cross_validation\": \"3\", \"target\": \"local\", \"AMLSettingsJsonString\": \"{\\\"path\\\":null,\\\"name\\\":\\\"automl_heartfailure\\\",\\\"subscription_id\\\":\\\"641a5604-2a7e-401d-a98d-ee5182f46af8\\\",\\\"resource_group\\\":\\\"djs-test-e\\\",\\\"workspace_name\\\":\\\"davidudacitycapstone\\\",\\\"region\\\":\\\"eastus\\\",\\\"compute_target\\\":\\\"local\\\",\\\"spark_service\\\":null,\\\"azure_service\\\":\\\"Microsoft.AzureNotebookVM\\\",\\\"_local_managed_run_id\\\":null,\\\"many_models\\\":false,\\\"pipeline_fetch_max_batch_size\\\":1,\\\"iterations\\\":30,\\\"primary_metric\\\":\\\"accuracy\\\",\\\"task_type\\\":\\\"classification\\\",\\\"data_script\\\":null,\\\"validation_size\\\":0.0,\\\"n_cross_validations\\\":3,\\\"y_min\\\":null,\\\"y_max\\\":null,\\\"num_classes\\\":2,\\\"featurization\\\":\\\"auto\\\",\\\"_ignore_package_version_incompatibilities\\\":false,\\\"is_timeseries\\\":false,\\\"max_cores_per_iteration\\\":-1,\\\"max_concurrent_iterations\\\":8,\\\"iteration_timeout_minutes\\\":null,\\\"mem_in_mb\\\":null,\\\"enforce_time_on_windows\\\":false,\\\"experiment_timeout_minutes\\\":15,\\\"experiment_exit_score\\\":null,\\\"whitelist_models\\\":null,\\\"blacklist_algos\\\":[\\\"TensorFlowLinearClassifier\\\",\\\"TensorFlowDNN\\\"],\\\"supported_models\\\":[\\\"BernoulliNaiveBayes\\\",\\\"LightGBM\\\",\\\"SGD\\\",\\\"XGBoostClassifier\\\",\\\"LinearSVM\\\",\\\"RandomForest\\\",\\\"TensorFlowDNN\\\",\\\"AveragedPerceptronClassifier\\\",\\\"KNN\\\",\\\"LogisticRegression\\\",\\\"GradientBoosting\\\",\\\"DecisionTree\\\",\\\"SVM\\\",\\\"MultinomialNaiveBayes\\\",\\\"ExtremeRandomTrees\\\",\\\"TensorFlowLinearClassifier\\\"],\\\"auto_blacklist\\\":true,\\\"blacklist_samples_reached\\\":false,\\\"exclude_nan_labels\\\":true,\\\"verbosity\\\":20,\\\"_debug_log\\\":\\\"automl.log\\\",\\\"show_warnings\\\":false,\\\"model_explainability\\\":true,\\\"service_url\\\":null,\\\"sdk_url\\\":null,\\\"sdk_packages\\\":null,\\\"enable_onnx_compatible_models\\\":false,\\\"enable_split_onnx_featurizer_estimator_models\\\":false,\\\"vm_type\\\":null,\\\"telemetry_verbosity\\\":20,\\\"send_telemetry\\\":true,\\\"enable_dnn\\\":false,\\\"scenario\\\":\\\"SDK-1.13.0\\\",\\\"environment_label\\\":null,\\\"force_text_dnn\\\":false,\\\"enable_feature_sweeping\\\":true,\\\"enable_early_stopping\\\":false,\\\"early_stopping_n_iters\\\":10,\\\"metrics\\\":null,\\\"enable_ensembling\\\":true,\\\"enable_stack_ensembling\\\":true,\\\"ensemble_iterations\\\":15,\\\"enable_tf\\\":false,\\\"enable_subsampling\\\":false,\\\"subsample_seed\\\":null,\\\"enable_nimbusml\\\":false,\\\"enable_streaming\\\":false,\\\"force_streaming\\\":false,\\\"track_child_runs\\\":true,\\\"allowed_private_models\\\":[],\\\"label_column_name\\\":\\\"DEATH_EVENT\\\",\\\"weight_column_name\\\":null,\\\"cv_split_column_names\\\":null,\\\"enable_local_managed\\\":false,\\\"cost_mode\\\":1,\\\"lag_length\\\":0,\\\"metric_operation\\\":\\\"maximize\\\",\\\"preprocess\\\":true}\", \"DataPrepJsonString\": \"{\\\\\\\"training_data\\\\\\\": \\\\\\\"{\\\\\\\\\\\\\\\"blocks\\\\\\\\\\\\\\\": [{\\\\\\\\\\\\\\\"id\\\\\\\\\\\\\\\": \\\\\\\\\\\\\\\"79b00daa-6230-4e2b-9536-cb14f26da441\\\\\\\\\\\\\\\", \\\\\\\\\\\\\\\"type\\\\\\\\\\\\\\\": \\\\\\\\\\\\\\\"Microsoft.DPrep.GetDatastoreFilesBlock\\\\\\\\\\\\\\\", \\\\\\\\\\\\\\\"arguments\\\\\\\\\\\\\\\": {\\\\\\\\\\\\\\\"datastores\\\\\\\\\\\\\\\": [{\\\\\\\\\\\\\\\"datastoreName\\\\\\\\\\\\\\\": \\\\\\\\\\\\\\\"workspaceblobstore\\\\\\\\\\\\\\\", \\\\\\\\\\\\\\\"path\\\\\\\\\\\\\\\": \\\\\\\\\\\\\\\"UI/11-22-2020_072009_UTC/heart_failure_clinical_records_dataset (2).csv\\\\\\\\\\\\\\\", \\\\\\\\\\\\\\\"resourceGroup\\\\\\\\\\\\\\\": \\\\\\\\\\\\\\\"djs-test-e\\\\\\\\\\\\\\\", \\\\\\\\\\\\\\\"subscription\\\\\\\\\\\\\\\": \\\\\\\\\\\\\\\"641a5604-2a7e-401d-a98d-ee5182f46af8\\\\\\\\\\\\\\\", \\\\\\\\\\\\\\\"workspaceName\\\\\\\\\\\\\\\": \\\\\\\\\\\\\\\"davidudacitycapstone\\\\\\\\\\\\\\\"}]}, \\\\\\\\\\\\\\\"localData\\\\\\\\\\\\\\\": {}, \\\\\\\\\\\\\\\"isEnabled\\\\\\\\\\\\\\\": true, \\\\\\\\\\\\\\\"name\\\\\\\\\\\\\\\": null, \\\\\\\\\\\\\\\"annotation\\\\\\\\\\\\\\\": null}, {\\\\\\\\\\\\\\\"id\\\\\\\\\\\\\\\": \\\\\\\\\\\\\\\"e31f2dc2-ff7a-4321-a029-728bae96ece0\\\\\\\\\\\\\\\", \\\\\\\\\\\\\\\"type\\\\\\\\\\\\\\\": \\\\\\\\\\\\\\\"Microsoft.DPrep.ParseDelimitedBlock\\\\\\\\\\\\\\\", \\\\\\\\\\\\\\\"arguments\\\\\\\\\\\\\\\": {\\\\\\\\\\\\\\\"columnHeadersMode\\\\\\\\\\\\\\\": 2, \\\\\\\\\\\\\\\"fileEncoding\\\\\\\\\\\\\\\": 0, \\\\\\\\\\\\\\\"handleQuotedLineBreaks\\\\\\\\\\\\\\\": false, \\\\\\\\\\\\\\\"preview\\\\\\\\\\\\\\\": false, \\\\\\\\\\\\\\\"separator\\\\\\\\\\\\\\\": \\\\\\\\\\\\\\\",\\\\\\\\\\\\\\\", \\\\\\\\\\\\\\\"skipRows\\\\\\\\\\\\\\\": 0, \\\\\\\\\\\\\\\"skipRowsMode\\\\\\\\\\\\\\\": 0}, \\\\\\\\\\\\\\\"localData\\\\\\\\\\\\\\\": {}, \\\\\\\\\\\\\\\"isEnabled\\\\\\\\\\\\\\\": true, \\\\\\\\\\\\\\\"name\\\\\\\\\\\\\\\": null, \\\\\\\\\\\\\\\"annotation\\\\\\\\\\\\\\\": null}, {\\\\\\\\\\\\\\\"id\\\\\\\\\\\\\\\": \\\\\\\\\\\\\\\"ad8ffe5c-a6a9-4db3-996d-b909e8661d9f\\\\\\\\\\\\\\\", \\\\\\\\\\\\\\\"type\\\\\\\\\\\\\\\": \\\\\\\\\\\\\\\"Microsoft.DPrep.DropColumnsBlock\\\\\\\\\\\\\\\", \\\\\\\\\\\\\\\"arguments\\\\\\\\\\\\\\\": {\\\\\\\\\\\\\\\"columns\\\\\\\\\\\\\\\": {\\\\\\\\\\\\\\\"type\\\\\\\\\\\\\\\": 0, \\\\\\\\\\\\\\\"details\\\\\\\\\\\\\\\": {\\\\\\\\\\\\\\\"selectedColumns\\\\\\\\\\\\\\\": [\\\\\\\\\\\\\\\"Path\\\\\\\\\\\\\\\"]}}}, \\\\\\\\\\\\\\\"localData\\\\\\\\\\\\\\\": {}, \\\\\\\\\\\\\\\"isEnabled\\\\\\\\\\\\\\\": true, \\\\\\\\\\\\\\\"name\\\\\\\\\\\\\\\": null, \\\\\\\\\\\\\\\"annotation\\\\\\\\\\\\\\\": null}, {\\\\\\\\\\\\\\\"id\\\\\\\\\\\\\\\": \\\\\\\\\\\\\\\"0d4e95c3-6bb5-4280-85a3-8c0e573d5b2b\\\\\\\\\\\\\\\", \\\\\\\\\\\\\\\"type\\\\\\\\\\\\\\\": \\\\\\\\\\\\\\\"Microsoft.DPrep.SetColumnTypesBlock\\\\\\\\\\\\\\\", \\\\\\\\\\\\\\\"arguments\\\\\\\\\\\\\\\": {\\\\\\\\\\\\\\\"columnConversion\\\\\\\\\\\\\\\": [{\\\\\\\\\\\\\\\"column\\\\\\\\\\\\\\\": {\\\\\\\\\\\\\\\"type\\\\\\\\\\\\\\\": 2, \\\\\\\\\\\\\\\"details\\\\\\\\\\\\\\\": {\\\\\\\\\\\\\\\"selectedColumn\\\\\\\\\\\\\\\": \\\\\\\\\\\\\\\"Path\\\\\\\\\\\\\\\"}}, \\\\\\\\\\\\\\\"typeProperty\\\\\\\\\\\\\\\": 0}, {\\\\\\\\\\\\\\\"column\\\\\\\\\\\\\\\": {\\\\\\\\\\\\\\\"type\\\\\\\\\\\\\\\": 2, \\\\\\\\\\\\\\\"details\\\\\\\\\\\\\\\": {\\\\\\\\\\\\\\\"selectedColumn\\\\\\\\\\\\\\\": \\\\\\\\\\\\\\\"age\\\\\\\\\\\\\\\"}}, \\\\\\\\\\\\\\\"typeProperty\\\\\\\\\\\\\\\": 3}, {\\\\\\\\\\\\\\\"column\\\\\\\\\\\\\\\": {\\\\\\\\\\\\\\\"type\\\\\\\\\\\\\\\": 2, \\\\\\\\\\\\\\\"details\\\\\\\\\\\\\\\": {\\\\\\\\\\\\\\\"selectedColumn\\\\\\\\\\\\\\\": \\\\\\\\\\\\\\\"anaemia\\\\\\\\\\\\\\\"}}, \\\\\\\\\\\\\\\"typeProperty\\\\\\\\\\\\\\\": 2}, {\\\\\\\\\\\\\\\"column\\\\\\\\\\\\\\\": {\\\\\\\\\\\\\\\"type\\\\\\\\\\\\\\\": 2, \\\\\\\\\\\\\\\"details\\\\\\\\\\\\\\\": {\\\\\\\\\\\\\\\"selectedColumn\\\\\\\\\\\\\\\": \\\\\\\\\\\\\\\"creatinine_phosphokinase\\\\\\\\\\\\\\\"}}, \\\\\\\\\\\\\\\"typeProperty\\\\\\\\\\\\\\\": 2}, {\\\\\\\\\\\\\\\"column\\\\\\\\\\\\\\\": {\\\\\\\\\\\\\\\"type\\\\\\\\\\\\\\\": 2, \\\\\\\\\\\\\\\"details\\\\\\\\\\\\\\\": {\\\\\\\\\\\\\\\"selectedColumn\\\\\\\\\\\\\\\": \\\\\\\\\\\\\\\"diabetes\\\\\\\\\\\\\\\"}}, \\\\\\\\\\\\\\\"typeProperty\\\\\\\\\\\\\\\": 2}, {\\\\\\\\\\\\\\\"column\\\\\\\\\\\\\\\": {\\\\\\\\\\\\\\\"type\\\\\\\\\\\\\\\": 2, \\\\\\\\\\\\\\\"details\\\\\\\\\\\\\\\": {\\\\\\\\\\\\\\\"selectedColumn\\\\\\\\\\\\\\\": \\\\\\\\\\\\\\\"ejection_fraction\\\\\\\\\\\\\\\"}}, \\\\\\\\\\\\\\\"typeProperty\\\\\\\\\\\\\\\": 2}, {\\\\\\\\\\\\\\\"column\\\\\\\\\\\\\\\": {\\\\\\\\\\\\\\\"type\\\\\\\\\\\\\\\": 2, \\\\\\\\\\\\\\\"details\\\\\\\\\\\\\\\": {\\\\\\\\\\\\\\\"selectedColumn\\\\\\\\\\\\\\\": \\\\\\\\\\\\\\\"high_blood_pressure\\\\\\\\\\\\\\\"}}, \\\\\\\\\\\\\\\"typeProperty\\\\\\\\\\\\\\\": 2}, {\\\\\\\\\\\\\\\"column\\\\\\\\\\\\\\\": {\\\\\\\\\\\\\\\"type\\\\\\\\\\\\\\\": 2, \\\\\\\\\\\\\\\"details\\\\\\\\\\\\\\\": {\\\\\\\\\\\\\\\"selectedColumn\\\\\\\\\\\\\\\": \\\\\\\\\\\\\\\"platelets\\\\\\\\\\\\\\\"}}, \\\\\\\\\\\\\\\"typeProperty\\\\\\\\\\\\\\\": 3}, {\\\\\\\\\\\\\\\"column\\\\\\\\\\\\\\\": {\\\\\\\\\\\\\\\"type\\\\\\\\\\\\\\\": 2, \\\\\\\\\\\\\\\"details\\\\\\\\\\\\\\\": {\\\\\\\\\\\\\\\"selectedColumn\\\\\\\\\\\\\\\": \\\\\\\\\\\\\\\"serum_creatinine\\\\\\\\\\\\\\\"}}, \\\\\\\\\\\\\\\"typeProperty\\\\\\\\\\\\\\\": 3}, {\\\\\\\\\\\\\\\"column\\\\\\\\\\\\\\\": {\\\\\\\\\\\\\\\"type\\\\\\\\\\\\\\\": 2, \\\\\\\\\\\\\\\"details\\\\\\\\\\\\\\\": {\\\\\\\\\\\\\\\"selectedColumn\\\\\\\\\\\\\\\": \\\\\\\\\\\\\\\"serum_sodium\\\\\\\\\\\\\\\"}}, \\\\\\\\\\\\\\\"typeProperty\\\\\\\\\\\\\\\": 2}, {\\\\\\\\\\\\\\\"column\\\\\\\\\\\\\\\": {\\\\\\\\\\\\\\\"type\\\\\\\\\\\\\\\": 2, \\\\\\\\\\\\\\\"details\\\\\\\\\\\\\\\": {\\\\\\\\\\\\\\\"selectedColumn\\\\\\\\\\\\\\\": \\\\\\\\\\\\\\\"sex\\\\\\\\\\\\\\\"}}, \\\\\\\\\\\\\\\"typeProperty\\\\\\\\\\\\\\\": 2}, {\\\\\\\\\\\\\\\"column\\\\\\\\\\\\\\\": {\\\\\\\\\\\\\\\"type\\\\\\\\\\\\\\\": 2, \\\\\\\\\\\\\\\"details\\\\\\\\\\\\\\\": {\\\\\\\\\\\\\\\"selectedColumn\\\\\\\\\\\\\\\": \\\\\\\\\\\\\\\"smoking\\\\\\\\\\\\\\\"}}, \\\\\\\\\\\\\\\"typeProperty\\\\\\\\\\\\\\\": 2}, {\\\\\\\\\\\\\\\"column\\\\\\\\\\\\\\\": {\\\\\\\\\\\\\\\"type\\\\\\\\\\\\\\\": 2, \\\\\\\\\\\\\\\"details\\\\\\\\\\\\\\\": {\\\\\\\\\\\\\\\"selectedColumn\\\\\\\\\\\\\\\": \\\\\\\\\\\\\\\"time\\\\\\\\\\\\\\\"}}, \\\\\\\\\\\\\\\"typeProperty\\\\\\\\\\\\\\\": 2}, {\\\\\\\\\\\\\\\"column\\\\\\\\\\\\\\\": {\\\\\\\\\\\\\\\"type\\\\\\\\\\\\\\\": 2, \\\\\\\\\\\\\\\"details\\\\\\\\\\\\\\\": {\\\\\\\\\\\\\\\"selectedColumn\\\\\\\\\\\\\\\": \\\\\\\\\\\\\\\"DEATH_EVENT\\\\\\\\\\\\\\\"}}, \\\\\\\\\\\\\\\"typeProperty\\\\\\\\\\\\\\\": 2}]}, \\\\\\\\\\\\\\\"localData\\\\\\\\\\\\\\\": {}, \\\\\\\\\\\\\\\"isEnabled\\\\\\\\\\\\\\\": true, \\\\\\\\\\\\\\\"name\\\\\\\\\\\\\\\": null, \\\\\\\\\\\\\\\"annotation\\\\\\\\\\\\\\\": null}], \\\\\\\\\\\\\\\"inspectors\\\\\\\\\\\\\\\": [], \\\\\\\\\\\\\\\"meta\\\\\\\\\\\\\\\": {\\\\\\\\\\\\\\\"savedDatasetId\\\\\\\\\\\\\\\": \\\\\\\\\\\\\\\"93ba933e-eb2a-462e-81e1-77f8e842d947\\\\\\\\\\\\\\\", \\\\\\\\\\\\\\\"datasetType\\\\\\\\\\\\\\\": \\\\\\\\\\\\\\\"tabular\\\\\\\\\\\\\\\", \\\\\\\\\\\\\\\"subscriptionId\\\\\\\\\\\\\\\": \\\\\\\\\\\\\\\"641a5604-2a7e-401d-a98d-ee5182f46af8\\\\\\\\\\\\\\\", \\\\\\\\\\\\\\\"workspaceId\\\\\\\\\\\\\\\": \\\\\\\\\\\\\\\"3219a302-4a55-4f5a-916f-c7651da8bfd3\\\\\\\\\\\\\\\", \\\\\\\\\\\\\\\"workspaceLocation\\\\\\\\\\\\\\\": \\\\\\\\\\\\\\\"eastus\\\\\\\\\\\\\\\"}}\\\\\\\", \\\\\\\"activities\\\\\\\": 0}\", \"EnableSubsampling\": \"False\", \"runTemplate\": \"AutoML\", \"azureml.runsource\": \"automl\", \"display_task_type\": \"classification\", \"dependencies_versions\": \"{\\\"azureml-widgets\\\": \\\"1.18.0\\\", \\\"azureml-train\\\": \\\"1.18.0\\\", \\\"azureml-train-restclients-hyperdrive\\\": \\\"1.18.0\\\", \\\"azureml-train-core\\\": \\\"1.18.0\\\", \\\"azureml-train-automl\\\": \\\"1.18.0\\\", \\\"azureml-train-automl-runtime\\\": \\\"1.18.0\\\", \\\"azureml-train-automl-client\\\": \\\"1.18.0\\\", \\\"azureml-tensorboard\\\": \\\"1.18.0\\\", \\\"azureml-telemetry\\\": \\\"1.18.0\\\", \\\"azureml-sdk\\\": \\\"1.18.0\\\", \\\"azureml-samples\\\": \\\"0+unknown\\\", \\\"azureml-pipeline\\\": \\\"1.18.0\\\", \\\"azureml-pipeline-steps\\\": \\\"1.18.0\\\", \\\"azureml-pipeline-core\\\": \\\"1.18.0\\\", \\\"azureml-opendatasets\\\": \\\"1.18.0\\\", \\\"azureml-model-management-sdk\\\": \\\"1.0.1b6.post1\\\", \\\"azureml-mlflow\\\": \\\"1.18.0\\\", \\\"azureml-interpret\\\": \\\"1.18.0\\\", \\\"azureml-explain-model\\\": \\\"1.18.0\\\", \\\"azureml-defaults\\\": \\\"1.18.0\\\", \\\"azureml-dataset-runtime\\\": \\\"1.18.0\\\", \\\"azureml-dataprep\\\": \\\"2.4.2\\\", \\\"azureml-dataprep-rslex\\\": \\\"1.2.2\\\", \\\"azureml-dataprep-native\\\": \\\"24.0.0\\\", \\\"azureml-datadrift\\\": \\\"1.18.0\\\", \\\"azureml-core\\\": \\\"1.18.0\\\", \\\"azureml-contrib-services\\\": \\\"1.18.0\\\", \\\"azureml-contrib-server\\\": \\\"1.18.0\\\", \\\"azureml-contrib-reinforcementlearning\\\": \\\"1.18.0\\\", \\\"azureml-contrib-pipeline-steps\\\": \\\"1.18.0\\\", \\\"azureml-contrib-notebook\\\": \\\"1.18.0\\\", \\\"azureml-contrib-interpret\\\": \\\"1.18.0\\\", \\\"azureml-contrib-gbdt\\\": \\\"1.18.0\\\", \\\"azureml-contrib-fairness\\\": \\\"1.18.0\\\", \\\"azureml-contrib-dataset\\\": \\\"1.18.0\\\", \\\"azureml-cli-common\\\": \\\"1.18.0\\\", \\\"azureml-automl-runtime\\\": \\\"1.18.0\\\", \\\"azureml-automl-core\\\": \\\"1.18.0\\\", \\\"azureml-accel-models\\\": \\\"1.18.0\\\"}\", \"_aml_system_scenario_identification\": \"Local.Parent\", \"ClientSdkVersion\": \"1.18.0\", \"ClientType\": \"SDK\", \"environment_cpu_name\": \"AzureML-AutoML\", \"environment_cpu_version\": \"48\", \"environment_gpu_name\": \"AzureML-AutoML-GPU\", \"environment_gpu_version\": \"36\", \"root_attribution\": \"automl\", \"attribution\": \"AutoML\", \"Orchestrator\": \"AutoML\", \"_azureml.ComputeTargetType\": \"local\", \"ProblemInfoJsonString\": \"{\\\"dataset_num_categorical\\\": 0, \\\"is_sparse\\\": false, \\\"subsampling\\\": false, \\\"dataset_classes\\\": 2, \\\"dataset_features\\\": 12, \\\"dataset_samples\\\": 299, \\\"single_frequency_class_detected\\\": false}\", \"feature_skus\": \"automatedml_sdk_guardrails\"}, \"tags\": {\"model_explain_run\": \"best_run\", \"best_score\": \"0.8694949494949494\", \"best_pipeline\": \"VotingEnsemble\", \"automl_best_child_run_id\": \"AutoML_3bca6b22-132a-4b79-8deb-fadb9dcd3e3d_28\", \"model_explain_best_run_child_id\": \"AutoML_3bca6b22-132a-4b79-8deb-fadb9dcd3e3d_28\"}, \"end_time_utc\": \"2020-11-22T21:19:44.819104Z\", \"status\": \"Completed\", \"log_files\": {}, \"log_groups\": [], \"run_duration\": \"0:17:34\"}, \"child_runs\": [{\"run_id\": \"AutoML_3bca6b22-132a-4b79-8deb-fadb9dcd3e3d_0\", \"run_number\": 2, \"metric\": null, \"status\": \"Completed\", \"run_type\": null, \"training_percent\": \"100\", \"start_time\": \"2020-11-22T21:02:30.737639Z\", \"end_time\": \"2020-11-22T21:03:06.322098Z\", \"created_time\": \"2020-11-22T21:02:30.560061Z\", \"created_time_dt\": \"2020-11-22T21:02:30.560061Z\", \"duration\": \"0:00:35\", \"iteration\": \"0\", \"goal\": \"accuracy_max\", \"run_name\": \"MaxAbsScaler, LightGBM\", \"run_properties\": \"copy=True\", \"primary_metric\": 0.82592593, \"best_metric\": 0.82592593}, {\"run_id\": \"AutoML_3bca6b22-132a-4b79-8deb-fadb9dcd3e3d_1\", \"run_number\": 3, \"metric\": null, \"status\": \"Completed\", \"run_type\": null, \"training_percent\": \"100\", \"start_time\": \"2020-11-22T21:03:06.794661Z\", \"end_time\": \"2020-11-22T21:03:40.641458Z\", \"created_time\": \"2020-11-22T21:03:06.670587Z\", \"created_time_dt\": \"2020-11-22T21:03:06.670587Z\", \"duration\": \"0:00:33\", \"iteration\": \"1\", \"goal\": \"accuracy_max\", \"run_name\": \"MaxAbsScaler, XGBoostClassifier\", \"run_properties\": \"copy=True\", \"primary_metric\": 0.82599327, \"best_metric\": 0.82599327}, {\"run_id\": \"AutoML_3bca6b22-132a-4b79-8deb-fadb9dcd3e3d_2\", \"run_number\": 4, \"metric\": null, \"status\": \"Completed\", \"run_type\": null, \"training_percent\": \"100\", \"start_time\": \"2020-11-22T21:03:41.455309Z\", \"end_time\": \"2020-11-22T21:04:14.801492Z\", \"created_time\": \"2020-11-22T21:03:41.318669Z\", \"created_time_dt\": \"2020-11-22T21:03:41.318669Z\", \"duration\": \"0:00:33\", \"iteration\": \"2\", \"goal\": \"accuracy_max\", \"run_name\": \"MinMaxScaler, RandomForest\", \"run_properties\": \"copy=True, feature_range=(0, 1\", \"primary_metric\": 0.8326936, \"best_metric\": 0.8326936}, {\"run_id\": \"AutoML_3bca6b22-132a-4b79-8deb-fadb9dcd3e3d_3\", \"run_number\": 5, \"metric\": null, \"status\": \"Completed\", \"run_type\": null, \"training_percent\": \"100\", \"start_time\": \"2020-11-22T21:04:16.269143Z\", \"end_time\": \"2020-11-22T21:04:49.031893Z\", \"created_time\": \"2020-11-22T21:04:16.099933Z\", \"created_time_dt\": \"2020-11-22T21:04:16.099933Z\", \"duration\": \"0:00:32\", \"iteration\": \"3\", \"goal\": \"accuracy_max\", \"run_name\": \"StandardScalerWrapper, SGD\", \"run_properties\": \"<azureml.automl.runtime.shared.model_wrappers.StandardScalerWrapper object at 0x7eff3f9245c0\", \"primary_metric\": 0.81936027, \"best_metric\": 0.8326936}, {\"run_id\": \"AutoML_3bca6b22-132a-4b79-8deb-fadb9dcd3e3d_4\", \"run_number\": 6, \"metric\": null, \"status\": \"Completed\", \"run_type\": null, \"training_percent\": \"100\", \"start_time\": \"2020-11-22T21:04:50.502678Z\", \"end_time\": \"2020-11-22T21:05:23.388724Z\", \"created_time\": \"2020-11-22T21:04:50.34907Z\", \"created_time_dt\": \"2020-11-22T21:04:50.34907Z\", \"duration\": \"0:00:33\", \"iteration\": \"4\", \"goal\": \"accuracy_max\", \"run_name\": \"MinMaxScaler, RandomForest\", \"run_properties\": \"copy=True, feature_range=(0, 1\", \"primary_metric\": 0.83262626, \"best_metric\": 0.8326936}, {\"run_id\": \"AutoML_3bca6b22-132a-4b79-8deb-fadb9dcd3e3d_5\", \"run_number\": 7, \"metric\": null, \"status\": \"Completed\", \"run_type\": null, \"training_percent\": \"100\", \"start_time\": \"2020-11-22T21:05:24.830287Z\", \"end_time\": \"2020-11-22T21:06:00.416758Z\", \"created_time\": \"2020-11-22T21:05:24.711395Z\", \"created_time_dt\": \"2020-11-22T21:05:24.711395Z\", \"duration\": \"0:00:35\", \"iteration\": \"5\", \"goal\": \"accuracy_max\", \"run_name\": \"StandardScalerWrapper, SGD\", \"run_properties\": \"<azureml.automl.runtime.shared.model_wrappers.StandardScalerWrapper object at 0x7eff3f8d2710\", \"primary_metric\": 0.78232323, \"best_metric\": 0.8326936}, {\"run_id\": \"AutoML_3bca6b22-132a-4b79-8deb-fadb9dcd3e3d_6\", \"run_number\": 8, \"metric\": null, \"status\": \"Completed\", \"run_type\": null, \"training_percent\": \"100\", \"start_time\": \"2020-11-22T21:06:01.818455Z\", \"end_time\": \"2020-11-22T21:06:29.030305Z\", \"created_time\": \"2020-11-22T21:06:01.693295Z\", \"created_time_dt\": \"2020-11-22T21:06:01.693295Z\", \"duration\": \"0:00:27\", \"iteration\": \"6\", \"goal\": \"accuracy_max\", \"run_name\": \"StandardScalerWrapper, RandomForest\", \"run_properties\": \"<azureml.automl.runtime.shared.model_wrappers.StandardScalerWrapper object at 0x7f0016a5ca58\", \"primary_metric\": 0.81599327, \"best_metric\": 0.8326936}, {\"run_id\": \"AutoML_3bca6b22-132a-4b79-8deb-fadb9dcd3e3d_7\", \"run_number\": 9, \"metric\": null, \"status\": \"Completed\", \"run_type\": null, \"training_percent\": \"100\", \"start_time\": \"2020-11-22T21:06:30.724282Z\", \"end_time\": \"2020-11-22T21:06:58.39148Z\", \"created_time\": \"2020-11-22T21:06:30.59602Z\", \"created_time_dt\": \"2020-11-22T21:06:30.59602Z\", \"duration\": \"0:00:27\", \"iteration\": \"7\", \"goal\": \"accuracy_max\", \"run_name\": \"RobustScaler, ExtremeRandomTrees\", \"run_properties\": \"copy=True, quantile_range=[10, 90], with_centering=False,\\n             with_scaling=False\", \"primary_metric\": 0.76925926, \"best_metric\": 0.8326936}, {\"run_id\": \"AutoML_3bca6b22-132a-4b79-8deb-fadb9dcd3e3d_8\", \"run_number\": 10, \"metric\": null, \"status\": \"Completed\", \"run_type\": null, \"training_percent\": \"100\", \"start_time\": \"2020-11-22T21:07:01.219483Z\", \"end_time\": \"2020-11-22T21:07:28.337806Z\", \"created_time\": \"2020-11-22T21:07:00.737377Z\", \"created_time_dt\": \"2020-11-22T21:07:00.737377Z\", \"duration\": \"0:00:27\", \"iteration\": \"8\", \"goal\": \"accuracy_max\", \"run_name\": \"StandardScalerWrapper, ExtremeRandomTrees\", \"run_properties\": \"<azureml.automl.runtime.shared.model_wrappers.StandardScalerWrapper object at 0x7f0016a3bd30\", \"primary_metric\": 0.79252525, \"best_metric\": 0.8326936}, {\"run_id\": \"AutoML_3bca6b22-132a-4b79-8deb-fadb9dcd3e3d_9\", \"run_number\": 11, \"metric\": null, \"status\": \"Completed\", \"run_type\": null, \"training_percent\": \"100\", \"start_time\": \"2020-11-22T21:07:30.11788Z\", \"end_time\": \"2020-11-22T21:07:56.875284Z\", \"created_time\": \"2020-11-22T21:07:29.95129Z\", \"created_time_dt\": \"2020-11-22T21:07:29.95129Z\", \"duration\": \"0:00:26\", \"iteration\": \"9\", \"goal\": \"accuracy_max\", \"run_name\": \"StandardScalerWrapper, SGD\", \"run_properties\": \"<azureml.automl.runtime.shared.model_wrappers.StandardScalerWrapper object at 0x7f0016965a58\", \"primary_metric\": 0.81265993, \"best_metric\": 0.8326936}, {\"run_id\": \"AutoML_3bca6b22-132a-4b79-8deb-fadb9dcd3e3d_10\", \"run_number\": 12, \"metric\": null, \"status\": \"Completed\", \"run_type\": null, \"training_percent\": \"100\", \"start_time\": \"2020-11-22T21:07:58.4829Z\", \"end_time\": \"2020-11-22T21:08:33.898094Z\", \"created_time\": \"2020-11-22T21:07:58.354224Z\", \"created_time_dt\": \"2020-11-22T21:07:58.354224Z\", \"duration\": \"0:00:35\", \"iteration\": \"10\", \"goal\": \"accuracy_max\", \"run_name\": \"StandardScalerWrapper, SGD\", \"run_properties\": \"<azureml.automl.runtime.shared.model_wrappers.StandardScalerWrapper object at 0x7f00169496a0\", \"primary_metric\": 0.77259259, \"best_metric\": 0.8326936}, {\"run_id\": \"AutoML_3bca6b22-132a-4b79-8deb-fadb9dcd3e3d_11\", \"run_number\": 13, \"metric\": null, \"status\": \"Completed\", \"run_type\": null, \"training_percent\": \"100\", \"start_time\": \"2020-11-22T21:08:35.352054Z\", \"end_time\": \"2020-11-22T21:09:00.510566Z\", \"created_time\": \"2020-11-22T21:08:35.238418Z\", \"created_time_dt\": \"2020-11-22T21:08:35.238418Z\", \"duration\": \"0:00:25\", \"iteration\": \"11\", \"goal\": \"accuracy_max\", \"run_name\": \"MinMaxScaler, SGD\", \"run_properties\": \"copy=True, feature_range=(0, 1\", \"primary_metric\": 0.77569024, \"best_metric\": 0.8326936}, {\"run_id\": \"AutoML_3bca6b22-132a-4b79-8deb-fadb9dcd3e3d_12\", \"run_number\": 14, \"metric\": null, \"status\": \"Completed\", \"run_type\": null, \"training_percent\": \"100\", \"start_time\": \"2020-11-22T21:09:02.080753Z\", \"end_time\": \"2020-11-22T21:09:28.256441Z\", \"created_time\": \"2020-11-22T21:09:01.960721Z\", \"created_time_dt\": \"2020-11-22T21:09:01.960721Z\", \"duration\": \"0:00:26\", \"iteration\": \"12\", \"goal\": \"accuracy_max\", \"run_name\": \"RobustScaler, ExtremeRandomTrees\", \"run_properties\": \"copy=True, quantile_range=[10, 90], with_centering=False,\\n             with_scaling=False\", \"primary_metric\": 0.82919192, \"best_metric\": 0.8326936}, {\"run_id\": \"AutoML_3bca6b22-132a-4b79-8deb-fadb9dcd3e3d_13\", \"run_number\": 15, \"metric\": null, \"status\": \"Completed\", \"run_type\": null, \"training_percent\": \"100\", \"start_time\": \"2020-11-22T21:09:29.734441Z\", \"end_time\": \"2020-11-22T21:09:55.879281Z\", \"created_time\": \"2020-11-22T21:09:29.610493Z\", \"created_time_dt\": \"2020-11-22T21:09:29.610493Z\", \"duration\": \"0:00:26\", \"iteration\": \"13\", \"goal\": \"accuracy_max\", \"run_name\": \"MinMaxScaler, SGD\", \"run_properties\": \"copy=True, feature_range=(0, 1\", \"primary_metric\": 0.79919192, \"best_metric\": 0.8326936}, {\"run_id\": \"AutoML_3bca6b22-132a-4b79-8deb-fadb9dcd3e3d_14\", \"run_number\": 16, \"metric\": null, \"status\": \"Completed\", \"run_type\": null, \"training_percent\": \"100\", \"start_time\": \"2020-11-22T21:09:57.446579Z\", \"end_time\": \"2020-11-22T21:10:33.28866Z\", \"created_time\": \"2020-11-22T21:09:57.316781Z\", \"created_time_dt\": \"2020-11-22T21:09:57.316781Z\", \"duration\": \"0:00:35\", \"iteration\": \"14\", \"goal\": \"accuracy_max\", \"run_name\": \"MinMaxScaler, ExtremeRandomTrees\", \"run_properties\": \"copy=True, feature_range=(0, 1\", \"primary_metric\": 0.84609428, \"best_metric\": 0.84609428}, {\"run_id\": \"AutoML_3bca6b22-132a-4b79-8deb-fadb9dcd3e3d_15\", \"run_number\": 17, \"metric\": null, \"status\": \"Completed\", \"run_type\": null, \"training_percent\": \"100\", \"start_time\": \"2020-11-22T21:10:34.984536Z\", \"end_time\": \"2020-11-22T21:11:00.851396Z\", \"created_time\": \"2020-11-22T21:10:34.861857Z\", \"created_time_dt\": \"2020-11-22T21:10:34.861857Z\", \"duration\": \"0:00:25\", \"iteration\": \"15\", \"goal\": \"accuracy_max\", \"run_name\": \"MinMaxScaler, ExtremeRandomTrees\", \"run_properties\": \"copy=True, feature_range=(0, 1\", \"primary_metric\": 0.7826936, \"best_metric\": 0.84609428}, {\"run_id\": \"AutoML_3bca6b22-132a-4b79-8deb-fadb9dcd3e3d_16\", \"run_number\": 18, \"metric\": null, \"status\": \"Completed\", \"run_type\": null, \"training_percent\": \"100\", \"start_time\": \"2020-11-22T21:11:02.349038Z\", \"end_time\": \"2020-11-22T21:11:38.592565Z\", \"created_time\": \"2020-11-22T21:11:02.203408Z\", \"created_time_dt\": \"2020-11-22T21:11:02.203408Z\", \"duration\": \"0:00:36\", \"iteration\": \"16\", \"goal\": \"accuracy_max\", \"run_name\": \"MinMaxScaler, ExtremeRandomTrees\", \"run_properties\": \"copy=True, feature_range=(0, 1\", \"primary_metric\": 0.73259259, \"best_metric\": 0.84609428}, {\"run_id\": \"AutoML_3bca6b22-132a-4b79-8deb-fadb9dcd3e3d_17\", \"run_number\": 19, \"metric\": null, \"status\": \"Completed\", \"run_type\": null, \"training_percent\": \"100\", \"start_time\": \"2020-11-22T21:11:39.944933Z\", \"end_time\": \"2020-11-22T21:12:07.461598Z\", \"created_time\": \"2020-11-22T21:11:39.81263Z\", \"created_time_dt\": \"2020-11-22T21:11:39.81263Z\", \"duration\": \"0:00:27\", \"iteration\": \"17\", \"goal\": \"accuracy_max\", \"run_name\": \"StandardScalerWrapper, RandomForest\", \"run_properties\": \"<azureml.automl.runtime.shared.model_wrappers.StandardScalerWrapper object at 0x7f00168b8160\", \"primary_metric\": 0.82589226, \"best_metric\": 0.84609428}, {\"run_id\": \"AutoML_3bca6b22-132a-4b79-8deb-fadb9dcd3e3d_18\", \"run_number\": 20, \"metric\": null, \"status\": \"Completed\", \"run_type\": null, \"training_percent\": \"100\", \"start_time\": \"2020-11-22T21:12:09.037334Z\", \"end_time\": \"2020-11-22T21:12:36.169519Z\", \"created_time\": \"2020-11-22T21:12:08.899426Z\", \"created_time_dt\": \"2020-11-22T21:12:08.899426Z\", \"duration\": \"0:00:27\", \"iteration\": \"18\", \"goal\": \"accuracy_max\", \"run_name\": \"StandardScalerWrapper, SGD\", \"run_properties\": \"<azureml.automl.runtime.shared.model_wrappers.StandardScalerWrapper object at 0x7eff31666d30\", \"primary_metric\": 0.7823569, \"best_metric\": 0.84609428}, {\"run_id\": \"AutoML_3bca6b22-132a-4b79-8deb-fadb9dcd3e3d_19\", \"run_number\": 21, \"metric\": null, \"status\": \"Completed\", \"run_type\": null, \"training_percent\": \"100\", \"start_time\": \"2020-11-22T21:12:37.790537Z\", \"end_time\": \"2020-11-22T21:13:04.188118Z\", \"created_time\": \"2020-11-22T21:12:37.680684Z\", \"created_time_dt\": \"2020-11-22T21:12:37.680684Z\", \"duration\": \"0:00:26\", \"iteration\": \"19\", \"goal\": \"accuracy_max\", \"run_name\": \"RobustScaler, ExtremeRandomTrees\", \"run_properties\": \"copy=True, quantile_range=[25, 75], with_centering=True,\\n             with_scaling=False\", \"primary_metric\": 0.83276094, \"best_metric\": 0.84609428}, {\"run_id\": \"AutoML_3bca6b22-132a-4b79-8deb-fadb9dcd3e3d_20\", \"run_number\": 22, \"metric\": null, \"status\": \"Completed\", \"run_type\": null, \"training_percent\": \"100\", \"start_time\": \"2020-11-22T21:13:07.300538Z\", \"end_time\": \"2020-11-22T21:13:33.502745Z\", \"created_time\": \"2020-11-22T21:13:06.492216Z\", \"created_time_dt\": \"2020-11-22T21:13:06.492216Z\", \"duration\": \"0:00:27\", \"iteration\": \"20\", \"goal\": \"accuracy_max\", \"run_name\": \"StandardScalerWrapper, RandomForest\", \"run_properties\": \"<azureml.automl.runtime.shared.model_wrappers.StandardScalerWrapper object at 0x7eff316a7080\", \"primary_metric\": 0.83592593, \"best_metric\": 0.84609428}, {\"run_id\": \"AutoML_3bca6b22-132a-4b79-8deb-fadb9dcd3e3d_21\", \"run_number\": 23, \"metric\": null, \"status\": \"Completed\", \"run_type\": null, \"training_percent\": \"100\", \"start_time\": \"2020-11-22T21:13:36.003465Z\", \"end_time\": \"2020-11-22T21:14:12.708513Z\", \"created_time\": \"2020-11-22T21:13:35.524527Z\", \"created_time_dt\": \"2020-11-22T21:13:35.524527Z\", \"duration\": \"0:00:37\", \"iteration\": \"21\", \"goal\": \"accuracy_max\", \"run_name\": \"MinMaxScaler, ExtremeRandomTrees\", \"run_properties\": \"copy=True, feature_range=(0, 1\", \"primary_metric\": 0.81919192, \"best_metric\": 0.84609428}, {\"run_id\": \"AutoML_3bca6b22-132a-4b79-8deb-fadb9dcd3e3d_22\", \"run_number\": 24, \"metric\": null, \"status\": \"Completed\", \"run_type\": null, \"training_percent\": \"100\", \"start_time\": \"2020-11-22T21:14:14.08746Z\", \"end_time\": \"2020-11-22T21:14:40.491016Z\", \"created_time\": \"2020-11-22T21:14:13.963257Z\", \"created_time_dt\": \"2020-11-22T21:14:13.963257Z\", \"duration\": \"0:00:26\", \"iteration\": \"22\", \"goal\": \"accuracy_max\", \"run_name\": \"MinMaxScaler, RandomForest\", \"run_properties\": \"copy=True, feature_range=(0, 1\", \"primary_metric\": 0.86276094, \"best_metric\": 0.86276094}, {\"run_id\": \"AutoML_3bca6b22-132a-4b79-8deb-fadb9dcd3e3d_23\", \"run_number\": 25, \"metric\": null, \"status\": \"Completed\", \"run_type\": null, \"training_percent\": \"100\", \"start_time\": \"2020-11-22T21:14:41.938801Z\", \"end_time\": \"2020-11-22T21:15:17.78467Z\", \"created_time\": \"2020-11-22T21:14:41.813487Z\", \"created_time_dt\": \"2020-11-22T21:14:41.813487Z\", \"duration\": \"0:00:35\", \"iteration\": \"23\", \"goal\": \"accuracy_max\", \"run_name\": \"SparseNormalizer, XGBoostClassifier\", \"run_properties\": \"<azureml.automl.runtime.shared.model_wrappers.SparseNormalizer object at 0x7eff315179b0\", \"primary_metric\": 0.8393266, \"best_metric\": 0.86276094}, {\"run_id\": \"AutoML_3bca6b22-132a-4b79-8deb-fadb9dcd3e3d_24\", \"run_number\": 26, \"metric\": null, \"status\": \"Completed\", \"run_type\": null, \"training_percent\": \"100\", \"start_time\": \"2020-11-22T21:15:19.068551Z\", \"end_time\": \"2020-11-22T21:15:44.784111Z\", \"created_time\": \"2020-11-22T21:15:18.954794Z\", \"created_time_dt\": \"2020-11-22T21:15:18.954794Z\", \"duration\": \"0:00:25\", \"iteration\": \"24\", \"goal\": \"accuracy_max\", \"run_name\": \"MaxAbsScaler, LightGBM\", \"run_properties\": \"copy=True\", \"primary_metric\": 0.84606061, \"best_metric\": 0.86276094}, {\"run_id\": \"AutoML_3bca6b22-132a-4b79-8deb-fadb9dcd3e3d_25\", \"run_number\": 27, \"metric\": null, \"status\": \"Completed\", \"run_type\": null, \"training_percent\": \"100\", \"start_time\": \"2020-11-22T21:15:47.356919Z\", \"end_time\": \"2020-11-22T21:16:15.769139Z\", \"created_time\": \"2020-11-22T21:15:47.210491Z\", \"created_time_dt\": \"2020-11-22T21:15:47.210491Z\", \"duration\": \"0:00:28\", \"iteration\": \"25\", \"goal\": \"accuracy_max\", \"run_name\": \"MaxAbsScaler, RandomForest\", \"run_properties\": \"copy=True\", \"primary_metric\": 0.84602694, \"best_metric\": 0.86276094}, {\"run_id\": \"AutoML_3bca6b22-132a-4b79-8deb-fadb9dcd3e3d_26\", \"run_number\": 28, \"metric\": null, \"status\": \"Completed\", \"run_type\": null, \"training_percent\": \"100\", \"start_time\": \"2020-11-22T21:16:19.129104Z\", \"end_time\": \"2020-11-22T21:16:59.014795Z\", \"created_time\": \"2020-11-22T21:16:18.370489Z\", \"created_time_dt\": \"2020-11-22T21:16:18.370489Z\", \"duration\": \"0:00:40\", \"iteration\": \"26\", \"goal\": \"accuracy_max\", \"run_name\": \"RobustScaler, ExtremeRandomTrees\", \"run_properties\": \"copy=True, quantile_range=[25, 75], with_centering=True,\\n             with_scaling=False\", \"primary_metric\": 0.84942761, \"best_metric\": 0.86276094}, {\"run_id\": \"AutoML_3bca6b22-132a-4b79-8deb-fadb9dcd3e3d_27\", \"run_number\": 29, \"metric\": null, \"status\": \"Completed\", \"run_type\": null, \"training_percent\": \"100\", \"start_time\": \"2020-11-22T21:17:02.576253Z\", \"end_time\": \"2020-11-22T21:17:43.873087Z\", \"created_time\": \"2020-11-22T21:17:01.755301Z\", \"created_time_dt\": \"2020-11-22T21:17:01.755301Z\", \"duration\": \"0:00:42\", \"iteration\": \"27\", \"goal\": \"accuracy_max\", \"run_name\": \"SparseNormalizer, XGBoostClassifier\", \"run_properties\": \"<azureml.automl.runtime.shared.model_wrappers.SparseNormalizer object at 0x7f00168b8fd0\", \"primary_metric\": 0.83272727, \"best_metric\": 0.86276094}, {\"run_id\": \"AutoML_3bca6b22-132a-4b79-8deb-fadb9dcd3e3d_28\", \"run_number\": 30, \"metric\": null, \"status\": \"Completed\", \"run_type\": null, \"training_percent\": \"100\", \"start_time\": \"2020-11-22T21:17:46.949176Z\", \"end_time\": \"2020-11-22T21:18:52.634584Z\", \"created_time\": \"2020-11-22T21:17:46.083552Z\", \"created_time_dt\": \"2020-11-22T21:17:46.083552Z\", \"duration\": \"0:01:06\", \"iteration\": \"28\", \"goal\": \"accuracy_max\", \"run_name\": \"VotingEnsemble\", \"run_properties\": \"classification_labels=None,\\n                              estimators=[('22',\\n                                           Pipeline(memory=None,\\n                                                    steps=[('minmaxscaler',\\n                                                            MinMaxScaler(copy=True,\\n                                                                         feature_range=(0,\\n                                                                                        1\", \"primary_metric\": 0.86949495, \"best_metric\": 0.86949495}, {\"run_id\": \"AutoML_3bca6b22-132a-4b79-8deb-fadb9dcd3e3d_29\", \"run_number\": 31, \"metric\": null, \"status\": \"Completed\", \"run_type\": null, \"training_percent\": \"100\", \"start_time\": \"2020-11-22T21:18:53.00284Z\", \"end_time\": \"2020-11-22T21:19:41.161967Z\", \"created_time\": \"2020-11-22T21:18:52.886737Z\", \"created_time_dt\": \"2020-11-22T21:18:52.886737Z\", \"duration\": \"0:00:48\", \"iteration\": \"29\", \"goal\": \"accuracy_max\", \"run_name\": \"StackEnsemble\", \"run_properties\": \"base_learners=[('22',\\n                                        Pipeline(memory=None,\\n                                                 steps=[('minmaxscaler',\\n                                                         MinMaxScaler(copy=True,\\n                                                                      feature_range=(0,\\n                                                                                     1\", \"primary_metric\": 0.82252525, \"best_metric\": 0.86949495}], \"children_metrics\": {\"categories\": [0], \"series\": {\"precision_score_macro\": [{\"categories\": [\"0\", \"1\", \"2\", \"3\", \"4\", \"5\", \"6\", \"7\", \"8\", \"9\", \"10\", \"11\", \"12\", \"13\", \"14\", \"15\", \"16\", \"17\", \"18\", \"19\", \"20\", \"21\", \"22\", \"23\", \"24\", \"25\", \"26\", \"27\", \"28\", \"29\"], \"mode\": \"markers\", \"name\": \"precision_score_macro\", \"stepped\": false, \"type\": \"scatter\", \"data\": [0.8147546772260731, 0.8218409751026504, 0.8244663382594416, 0.8048107585471715, 0.8322514601650349, 0.7672641855944851, 0.8047724880840552, 0.7807346231106166, 0.7654761904761905, 0.8009288700874703, 0.7863788036582154, 0.7512860502380448, 0.8034638474445464, 0.7924650322946669, 0.8469226717327983, 0.8139518877355475, 0.7796069073530942, 0.7991082507520804, 0.770121259995132, 0.8183376946938369, 0.8069988015464874, 0.7897841027436616, 0.8653628498456084, 0.8241727756756002, 0.8448532311636132, 0.8419877412457321, 0.8572530864197531, 0.8270241433284911, 0.8750564129911956, 0.8177860585952269]}, {\"categories\": [\"0\", \"1\", \"2\", \"3\", \"4\", \"5\", \"6\", \"7\", \"8\", \"9\", \"10\", \"11\", \"12\", \"13\", \"14\", \"15\", \"16\", \"17\", \"18\", \"19\", \"20\", \"21\", \"22\", \"23\", \"24\", \"25\", \"26\", \"27\", \"28\", \"29\"], \"mode\": \"lines\", \"name\": \"precision_score_macro_max\", \"stepped\": true, \"type\": \"scatter\", \"data\": [0.8147546772260731, 0.8218409751026504, 0.8244663382594416, 0.8244663382594416, 0.8322514601650349, 0.8322514601650349, 0.8322514601650349, 0.8322514601650349, 0.8322514601650349, 0.8322514601650349, 0.8322514601650349, 0.8322514601650349, 0.8322514601650349, 0.8322514601650349, 0.8469226717327983, 0.8469226717327983, 0.8469226717327983, 0.8469226717327983, 0.8469226717327983, 0.8469226717327983, 0.8469226717327983, 0.8469226717327983, 0.8653628498456084, 0.8653628498456084, 0.8653628498456084, 0.8653628498456084, 0.8653628498456084, 0.8653628498456084, 0.8750564129911956, 0.8750564129911956]}], \"weighted_accuracy\": [{\"categories\": [\"0\", \"1\", \"2\", \"3\", \"4\", \"5\", \"6\", \"7\", \"8\", \"9\", \"10\", \"11\", \"12\", \"13\", \"14\", \"15\", \"16\", \"17\", \"18\", \"19\", \"20\", \"21\", \"22\", \"23\", \"24\", \"25\", \"26\", \"27\", \"28\", \"29\"], \"mode\": \"markers\", \"name\": \"weighted_accuracy\", \"stepped\": false, \"type\": \"scatter\", \"data\": [0.8518765369284775, 0.8581177688845031, 0.8611793464955714, 0.8440036520327334, 0.8660166543917027, 0.7712567029276012, 0.8447619290097125, 0.8262156047608107, 0.8086240343860509, 0.842256293716512, 0.8279712975961124, 0.7714093997819867, 0.8372215890708952, 0.831237784631499, 0.8811058598767878, 0.848681564030927, 0.8166782854144342, 0.8288435264811042, 0.7694033896694972, 0.8584067248870221, 0.8411381406704695, 0.8321390975495859, 0.8896371438558006, 0.8574293705698314, 0.8768719803058523, 0.876960973006646, 0.8839717859938933, 0.8574414923618378, 0.8964486973926088, 0.8402912003326799]}, {\"categories\": [\"0\", \"1\", \"2\", \"3\", \"4\", \"5\", \"6\", \"7\", \"8\", \"9\", \"10\", \"11\", \"12\", \"13\", \"14\", \"15\", \"16\", \"17\", \"18\", \"19\", \"20\", \"21\", \"22\", \"23\", \"24\", \"25\", \"26\", \"27\", \"28\", \"29\"], \"mode\": \"lines\", \"name\": \"weighted_accuracy_max\", \"stepped\": true, \"type\": \"scatter\", \"data\": [0.8518765369284775, 0.8581177688845031, 0.8611793464955714, 0.8611793464955714, 0.8660166543917027, 0.8660166543917027, 0.8660166543917027, 0.8660166543917027, 0.8660166543917027, 0.8660166543917027, 0.8660166543917027, 0.8660166543917027, 0.8660166543917027, 0.8660166543917027, 0.8811058598767878, 0.8811058598767878, 0.8811058598767878, 0.8811058598767878, 0.8811058598767878, 0.8811058598767878, 0.8811058598767878, 0.8811058598767878, 0.8896371438558006, 0.8896371438558006, 0.8896371438558006, 0.8896371438558006, 0.8896371438558006, 0.8896371438558006, 0.8964486973926088, 0.8964486973926088]}], \"recall_score_micro\": [{\"categories\": [\"0\", \"1\", \"2\", \"3\", \"4\", \"5\", \"6\", \"7\", \"8\", \"9\", \"10\", \"11\", \"12\", \"13\", \"14\", \"15\", \"16\", \"17\", \"18\", \"19\", \"20\", \"21\", \"22\", \"23\", \"24\", \"25\", \"26\", \"27\", \"28\", \"29\"], \"mode\": \"markers\", \"name\": \"recall_score_micro\", \"stepped\": false, \"type\": \"scatter\", \"data\": [0.825925925925926, 0.8259932659932661, 0.8326936026936026, 0.8193602693602693, 0.8326262626262627, 0.7823232323232322, 0.8159932659932659, 0.7692592592592593, 0.7925252525252526, 0.8126599326599327, 0.7725925925925926, 0.7756902356902358, 0.8291919191919191, 0.7991919191919191, 0.8460942760942761, 0.7826936026936027, 0.7325925925925926, 0.8258922558922559, 0.7823569023569025, 0.8327609427609427, 0.8359259259259259, 0.8191919191919191, 0.8627609427609428, 0.8393265993265994, 0.8460606060606062, 0.846026936026936, 0.8494276094276095, 0.8327272727272729, 0.8694949494949494, 0.8225252525252525]}, {\"categories\": [\"0\", \"1\", \"2\", \"3\", \"4\", \"5\", \"6\", \"7\", \"8\", \"9\", \"10\", \"11\", \"12\", \"13\", \"14\", \"15\", \"16\", \"17\", \"18\", \"19\", \"20\", \"21\", \"22\", \"23\", \"24\", \"25\", \"26\", \"27\", \"28\", \"29\"], \"mode\": \"lines\", \"name\": \"recall_score_micro_max\", \"stepped\": true, \"type\": \"scatter\", \"data\": [0.825925925925926, 0.8259932659932661, 0.8326936026936026, 0.8326936026936026, 0.8326936026936026, 0.8326936026936026, 0.8326936026936026, 0.8326936026936026, 0.8326936026936026, 0.8326936026936026, 0.8326936026936026, 0.8326936026936026, 0.8326936026936026, 0.8326936026936026, 0.8460942760942761, 0.8460942760942761, 0.8460942760942761, 0.8460942760942761, 0.8460942760942761, 0.8460942760942761, 0.8460942760942761, 0.8460942760942761, 0.8627609427609428, 0.8627609427609428, 0.8627609427609428, 0.8627609427609428, 0.8627609427609428, 0.8627609427609428, 0.8694949494949494, 0.8694949494949494]}], \"norm_macro_recall\": [{\"categories\": [\"0\", \"1\", \"2\", \"3\", \"4\", \"5\", \"6\", \"7\", \"8\", \"9\", \"10\", \"11\", \"12\", \"13\", \"14\", \"15\", \"16\", \"17\", \"18\", \"19\", \"20\", \"21\", \"22\", \"23\", \"24\", \"25\", \"26\", \"27\", \"28\", \"29\"], \"mode\": \"markers\", \"name\": \"norm_macro_recall\", \"stepped\": false, \"type\": \"scatter\", \"data\": [0.5848985786836498, 0.5678239301184463, 0.590750759386739, 0.5716252374019687, 0.5748087304012318, 0.5936869349533583, 0.5545462751606145, 0.38367041916550343, 0.54431543357438, 0.5434951561011557, 0.3846106807420322, 0.5653811911737393, 0.6354479533004616, 0.514462318241458, 0.5966127656855051, 0.38223528307501203, 0.2317332390715212, 0.641227480513567, 0.5979430554806654, 0.5964702945481923, 0.6588895878641912, 0.6045935059203208, 0.6540640620849835, 0.6343680564292746, 0.6115237062466424, 0.6084143445708591, 0.6048570395799757, 0.6038259511556059, 0.668929149866296, 0.6021375862984865]}, {\"categories\": [\"0\", \"1\", \"2\", \"3\", \"4\", \"5\", \"6\", \"7\", \"8\", \"9\", \"10\", \"11\", \"12\", \"13\", \"14\", \"15\", \"16\", \"17\", \"18\", \"19\", \"20\", \"21\", \"22\", \"23\", \"24\", \"25\", \"26\", \"27\", \"28\", \"29\"], \"mode\": \"lines\", \"name\": \"norm_macro_recall_max\", \"stepped\": true, \"type\": \"scatter\", \"data\": [0.5848985786836498, 0.5848985786836498, 0.590750759386739, 0.590750759386739, 0.590750759386739, 0.5936869349533583, 0.5936869349533583, 0.5936869349533583, 0.5936869349533583, 0.5936869349533583, 0.5936869349533583, 0.5936869349533583, 0.6354479533004616, 0.6354479533004616, 0.6354479533004616, 0.6354479533004616, 0.6354479533004616, 0.641227480513567, 0.641227480513567, 0.641227480513567, 0.6588895878641912, 0.6588895878641912, 0.6588895878641912, 0.6588895878641912, 0.6588895878641912, 0.6588895878641912, 0.6588895878641912, 0.6588895878641912, 0.668929149866296, 0.668929149866296]}], \"balanced_accuracy\": [{\"categories\": [\"0\", \"1\", \"2\", \"3\", \"4\", \"5\", \"6\", \"7\", \"8\", \"9\", \"10\", \"11\", \"12\", \"13\", \"14\", \"15\", \"16\", \"17\", \"18\", \"19\", \"20\", \"21\", \"22\", \"23\", \"24\", \"25\", \"26\", \"27\", \"28\", \"29\"], \"mode\": \"markers\", \"name\": \"balanced_accuracy\", \"stepped\": false, \"type\": \"scatter\", \"data\": [0.7924492893418248, 0.7839119650592231, 0.7953753796933696, 0.7858126187009843, 0.787404365200616, 0.7968434674766792, 0.7772731375803072, 0.6918352095827518, 0.77215771678719, 0.7717475780505779, 0.6923053403710161, 0.7826905955868697, 0.8177239766502308, 0.757231159120729, 0.7983063828427527, 0.691117641537506, 0.6158666195357606, 0.8206137402567836, 0.7989715277403328, 0.7982351472740961, 0.8294447939320956, 0.8022967529601605, 0.8270320310424918, 0.8171840282146373, 0.8057618531233212, 0.8042071722854295, 0.8024285197899879, 0.8019129755778028, 0.834464574933148, 0.8010687931492432]}, {\"categories\": [\"0\", \"1\", \"2\", \"3\", \"4\", \"5\", \"6\", \"7\", \"8\", \"9\", \"10\", \"11\", \"12\", \"13\", \"14\", \"15\", \"16\", \"17\", \"18\", \"19\", \"20\", \"21\", \"22\", \"23\", \"24\", \"25\", \"26\", \"27\", \"28\", \"29\"], \"mode\": \"lines\", \"name\": \"balanced_accuracy_max\", \"stepped\": true, \"type\": \"scatter\", \"data\": [0.7924492893418248, 0.7924492893418248, 0.7953753796933696, 0.7953753796933696, 0.7953753796933696, 0.7968434674766792, 0.7968434674766792, 0.7968434674766792, 0.7968434674766792, 0.7968434674766792, 0.7968434674766792, 0.7968434674766792, 0.8177239766502308, 0.8177239766502308, 0.8177239766502308, 0.8177239766502308, 0.8177239766502308, 0.8206137402567836, 0.8206137402567836, 0.8206137402567836, 0.8294447939320956, 0.8294447939320956, 0.8294447939320956, 0.8294447939320956, 0.8294447939320956, 0.8294447939320956, 0.8294447939320956, 0.8294447939320956, 0.834464574933148, 0.834464574933148]}], \"log_loss\": [{\"categories\": [\"0\", \"1\", \"2\", \"3\", \"4\", \"5\", \"6\", \"7\", \"8\", \"9\", \"10\", \"11\", \"12\", \"13\", \"14\", \"15\", \"16\", \"17\", \"18\", \"19\", \"20\", \"21\", \"22\", \"23\", \"24\", \"25\", \"26\", \"27\", \"28\", \"29\"], \"mode\": \"markers\", \"name\": \"log_loss\", \"stepped\": false, \"type\": \"scatter\", \"data\": [0.4951966892314486, 0.4286740704307772, 0.3763822527353557, 0.44261566439589545, 0.3996651387977204, 0.5152903103669324, 0.6871340385411258, 0.47458109397721976, 0.4851290962872574, 0.7417257391274784, 0.48618361773696533, 0.5435573822636933, 0.5595204561953613, 0.4674104555840253, 0.41748763577747844, 0.47702110915694734, 0.5218160879924428, 0.42918662650796696, 0.5931185325326566, 0.4604010451162288, 0.4771600919168195, 0.5423118920765003, 0.3851365269928992, 0.42749591882840415, 0.4051226025498939, 0.40744507763127175, 0.40715550236990317, 0.43153508298418347, 0.4157839503480894, 0.4464397715374768]}, {\"categories\": [\"0\", \"1\", \"2\", \"3\", \"4\", \"5\", \"6\", \"7\", \"8\", \"9\", \"10\", \"11\", \"12\", \"13\", \"14\", \"15\", \"16\", \"17\", \"18\", \"19\", \"20\", \"21\", \"22\", \"23\", \"24\", \"25\", \"26\", \"27\", \"28\", \"29\"], \"mode\": \"lines\", \"name\": \"log_loss_min\", \"stepped\": true, \"type\": \"scatter\", \"data\": [0.4951966892314486, 0.4286740704307772, 0.3763822527353557, 0.3763822527353557, 0.3763822527353557, 0.3763822527353557, 0.3763822527353557, 0.3763822527353557, 0.3763822527353557, 0.3763822527353557, 0.3763822527353557, 0.3763822527353557, 0.3763822527353557, 0.3763822527353557, 0.3763822527353557, 0.3763822527353557, 0.3763822527353557, 0.3763822527353557, 0.3763822527353557, 0.3763822527353557, 0.3763822527353557, 0.3763822527353557, 0.3763822527353557, 0.3763822527353557, 0.3763822527353557, 0.3763822527353557, 0.3763822527353557, 0.3763822527353557, 0.3763822527353557, 0.3763822527353557]}], \"precision_score_weighted\": [{\"categories\": [\"0\", \"1\", \"2\", \"3\", \"4\", \"5\", \"6\", \"7\", \"8\", \"9\", \"10\", \"11\", \"12\", \"13\", \"14\", \"15\", \"16\", \"17\", \"18\", \"19\", \"20\", \"21\", \"22\", \"23\", \"24\", \"25\", \"26\", \"27\", \"28\", \"29\"], \"mode\": \"markers\", \"name\": \"precision_score_weighted\", \"stepped\": false, \"type\": \"scatter\", \"data\": [0.8296778559936454, 0.8358295096304733, 0.8415741155396327, 0.8275932605552171, 0.8411815889140201, 0.8205892945817647, 0.8210757738115948, 0.7899817439951725, 0.8039932659932659, 0.8202551648401238, 0.795907087193852, 0.8033794386983479, 0.8379503285322484, 0.8135157396827664, 0.8506921229073128, 0.8070443065026908, 0.7768393679037482, 0.8401569923022193, 0.8230459019492038, 0.8375043243427626, 0.8460149287235543, 0.8267999943275678, 0.8699636223774153, 0.8501633769744008, 0.8536672454958323, 0.8499915834771238, 0.8580728582117471, 0.8480322455322455, 0.87701612536685, 0.841078853512173]}, {\"categories\": [\"0\", \"1\", \"2\", \"3\", \"4\", \"5\", \"6\", \"7\", \"8\", \"9\", \"10\", \"11\", \"12\", \"13\", \"14\", \"15\", \"16\", \"17\", \"18\", \"19\", \"20\", \"21\", \"22\", \"23\", \"24\", \"25\", \"26\", \"27\", \"28\", \"29\"], \"mode\": \"lines\", \"name\": \"precision_score_weighted_max\", \"stepped\": true, \"type\": \"scatter\", \"data\": [0.8296778559936454, 0.8358295096304733, 0.8415741155396327, 0.8415741155396327, 0.8415741155396327, 0.8415741155396327, 0.8415741155396327, 0.8415741155396327, 0.8415741155396327, 0.8415741155396327, 0.8415741155396327, 0.8415741155396327, 0.8415741155396327, 0.8415741155396327, 0.8506921229073128, 0.8506921229073128, 0.8506921229073128, 0.8506921229073128, 0.8506921229073128, 0.8506921229073128, 0.8506921229073128, 0.8506921229073128, 0.8699636223774153, 0.8699636223774153, 0.8699636223774153, 0.8699636223774153, 0.8699636223774153, 0.8699636223774153, 0.87701612536685, 0.87701612536685]}], \"average_precision_score_macro\": [{\"categories\": [\"0\", \"1\", \"2\", \"3\", \"4\", \"5\", \"6\", \"7\", \"8\", \"9\", \"10\", \"11\", \"12\", \"13\", \"14\", \"15\", \"16\", \"17\", \"18\", \"19\", \"20\", \"21\", \"22\", \"23\", \"24\", \"25\", \"26\", \"27\", \"28\", \"29\"], \"mode\": \"markers\", \"name\": \"average_precision_score_macro\", \"stepped\": false, \"type\": \"scatter\", \"data\": [0.8731198723526422, 0.8816256331225544, 0.9021336477963747, 0.8499551225847498, 0.8906820046833118, 0.8576619547687323, 0.8822393719913343, 0.8634798195499229, 0.8676832247301783, 0.8442136959048913, 0.842779686801487, 0.8272610791613687, 0.8543219572751669, 0.8338560223506445, 0.87699872168668, 0.863007944943179, 0.8117431535429006, 0.8764259695117048, 0.8572693412370805, 0.8559342100829666, 0.8742037865285534, 0.840511702168241, 0.9008515209041507, 0.8618048999167907, 0.896334337494224, 0.875163172105177, 0.886965648498181, 0.8625297058175626, 0.8956622437165036, 0.8885814446668361]}, {\"categories\": [\"0\", \"1\", \"2\", \"3\", \"4\", \"5\", \"6\", \"7\", \"8\", \"9\", \"10\", \"11\", \"12\", \"13\", \"14\", \"15\", \"16\", \"17\", \"18\", \"19\", \"20\", \"21\", \"22\", \"23\", \"24\", \"25\", \"26\", \"27\", \"28\", \"29\"], \"mode\": \"lines\", \"name\": \"average_precision_score_macro_max\", \"stepped\": true, \"type\": \"scatter\", \"data\": [0.8731198723526422, 0.8816256331225544, 0.9021336477963747, 0.9021336477963747, 0.9021336477963747, 0.9021336477963747, 0.9021336477963747, 0.9021336477963747, 0.9021336477963747, 0.9021336477963747, 0.9021336477963747, 0.9021336477963747, 0.9021336477963747, 0.9021336477963747, 0.9021336477963747, 0.9021336477963747, 0.9021336477963747, 0.9021336477963747, 0.9021336477963747, 0.9021336477963747, 0.9021336477963747, 0.9021336477963747, 0.9021336477963747, 0.9021336477963747, 0.9021336477963747, 0.9021336477963747, 0.9021336477963747, 0.9021336477963747, 0.9021336477963747, 0.9021336477963747]}], \"average_precision_score_micro\": [{\"categories\": [\"0\", \"1\", \"2\", \"3\", \"4\", \"5\", \"6\", \"7\", \"8\", \"9\", \"10\", \"11\", \"12\", \"13\", \"14\", \"15\", \"16\", \"17\", \"18\", \"19\", \"20\", \"21\", \"22\", \"23\", \"24\", \"25\", \"26\", \"27\", \"28\", \"29\"], \"mode\": \"markers\", \"name\": \"average_precision_score_micro\", \"stepped\": false, \"type\": \"scatter\", \"data\": [0.8938009858636106, 0.9026455376117112, 0.9159779434140104, 0.8790581294647245, 0.9075662119074567, 0.8493561310573101, 0.8973604634370785, 0.8721844956532655, 0.8916420998768898, 0.876346640679047, 0.8636500370104946, 0.8451713012721574, 0.8718834025050798, 0.8610014580706373, 0.8954434265629357, 0.8730973277297615, 0.8367434975357536, 0.8968736048064511, 0.8432185030916362, 0.8827853283984922, 0.8903365181261466, 0.8658781172457389, 0.911310024505981, 0.883758906442211, 0.9064759468524276, 0.8900535468520149, 0.9043827074976734, 0.8827380083290245, 0.9129738769076706, 0.8879774864903247]}, {\"categories\": [\"0\", \"1\", \"2\", \"3\", \"4\", \"5\", \"6\", \"7\", \"8\", \"9\", \"10\", \"11\", \"12\", \"13\", \"14\", \"15\", \"16\", \"17\", \"18\", \"19\", \"20\", \"21\", \"22\", \"23\", \"24\", \"25\", \"26\", \"27\", \"28\", \"29\"], \"mode\": \"lines\", \"name\": \"average_precision_score_micro_max\", \"stepped\": true, \"type\": \"scatter\", \"data\": [0.8938009858636106, 0.9026455376117112, 0.9159779434140104, 0.9159779434140104, 0.9159779434140104, 0.9159779434140104, 0.9159779434140104, 0.9159779434140104, 0.9159779434140104, 0.9159779434140104, 0.9159779434140104, 0.9159779434140104, 0.9159779434140104, 0.9159779434140104, 0.9159779434140104, 0.9159779434140104, 0.9159779434140104, 0.9159779434140104, 0.9159779434140104, 0.9159779434140104, 0.9159779434140104, 0.9159779434140104, 0.9159779434140104, 0.9159779434140104, 0.9159779434140104, 0.9159779434140104, 0.9159779434140104, 0.9159779434140104, 0.9159779434140104, 0.9159779434140104]}], \"AUC_macro\": [{\"categories\": [\"0\", \"1\", \"2\", \"3\", \"4\", \"5\", \"6\", \"7\", \"8\", \"9\", \"10\", \"11\", \"12\", \"13\", \"14\", \"15\", \"16\", \"17\", \"18\", \"19\", \"20\", \"21\", \"22\", \"23\", \"24\", \"25\", \"26\", \"27\", \"28\", \"29\"], \"mode\": \"markers\", \"name\": \"AUC_macro\", \"stepped\": false, \"type\": \"scatter\", \"data\": [0.8852144920879325, 0.8951796527623838, 0.9096417159111408, 0.8708024430851039, 0.9013649642956759, 0.8753567925421332, 0.9013826696729262, 0.8776744332808103, 0.8807564451846925, 0.8746837288535009, 0.8657965955242947, 0.8495974730378598, 0.873103507058652, 0.8523095376844213, 0.8972196418716827, 0.8770959607881513, 0.8362969204479566, 0.8930242424605529, 0.8762749132438512, 0.8730265281763602, 0.8887653430737207, 0.8582851875151029, 0.9090763090642451, 0.8774223479046385, 0.9093066396662493, 0.9025833882195369, 0.9021674332095815, 0.879602771670065, 0.9154034537368219, 0.9105849762914234]}, {\"categories\": [\"0\", \"1\", \"2\", \"3\", \"4\", \"5\", \"6\", \"7\", \"8\", \"9\", \"10\", \"11\", \"12\", \"13\", \"14\", \"15\", \"16\", \"17\", \"18\", \"19\", \"20\", \"21\", \"22\", \"23\", \"24\", \"25\", \"26\", \"27\", \"28\", \"29\"], \"mode\": \"lines\", \"name\": \"AUC_macro_max\", \"stepped\": true, \"type\": \"scatter\", \"data\": [0.8852144920879325, 0.8951796527623838, 0.9096417159111408, 0.9096417159111408, 0.9096417159111408, 0.9096417159111408, 0.9096417159111408, 0.9096417159111408, 0.9096417159111408, 0.9096417159111408, 0.9096417159111408, 0.9096417159111408, 0.9096417159111408, 0.9096417159111408, 0.9096417159111408, 0.9096417159111408, 0.9096417159111408, 0.9096417159111408, 0.9096417159111408, 0.9096417159111408, 0.9096417159111408, 0.9096417159111408, 0.9096417159111408, 0.9096417159111408, 0.9096417159111408, 0.9096417159111408, 0.9096417159111408, 0.9096417159111408, 0.9154034537368219, 0.9154034537368219]}], \"AUC_weighted\": [{\"categories\": [\"0\", \"1\", \"2\", \"3\", \"4\", \"5\", \"6\", \"7\", \"8\", \"9\", \"10\", \"11\", \"12\", \"13\", \"14\", \"15\", \"16\", \"17\", \"18\", \"19\", \"20\", \"21\", \"22\", \"23\", \"24\", \"25\", \"26\", \"27\", \"28\", \"29\"], \"mode\": \"markers\", \"name\": \"AUC_weighted\", \"stepped\": false, \"type\": \"scatter\", \"data\": [0.8852144920879325, 0.8951796527623838, 0.9096417159111408, 0.8708024430851039, 0.9013649642956759, 0.8753567925421332, 0.9014396781752293, 0.8776744332808103, 0.8807564451846925, 0.8746837288535009, 0.8657965955242947, 0.8495974730378598, 0.873103507058652, 0.8523095376844213, 0.8972196418716827, 0.8770959607881513, 0.8362969204479568, 0.8930242424605529, 0.8762749132438512, 0.8730265281763602, 0.8887653430737205, 0.8582851875151029, 0.9090763090642452, 0.8774223479046385, 0.9093066396662494, 0.9025833882195368, 0.9021674332095815, 0.8796027716700651, 0.9154034537368219, 0.9105849762914234]}, {\"categories\": [\"0\", \"1\", \"2\", \"3\", \"4\", \"5\", \"6\", \"7\", \"8\", \"9\", \"10\", \"11\", \"12\", \"13\", \"14\", \"15\", \"16\", \"17\", \"18\", \"19\", \"20\", \"21\", \"22\", \"23\", \"24\", \"25\", \"26\", \"27\", \"28\", \"29\"], \"mode\": \"lines\", \"name\": \"AUC_weighted_max\", \"stepped\": true, \"type\": \"scatter\", \"data\": [0.8852144920879325, 0.8951796527623838, 0.9096417159111408, 0.9096417159111408, 0.9096417159111408, 0.9096417159111408, 0.9096417159111408, 0.9096417159111408, 0.9096417159111408, 0.9096417159111408, 0.9096417159111408, 0.9096417159111408, 0.9096417159111408, 0.9096417159111408, 0.9096417159111408, 0.9096417159111408, 0.9096417159111408, 0.9096417159111408, 0.9096417159111408, 0.9096417159111408, 0.9096417159111408, 0.9096417159111408, 0.9096417159111408, 0.9096417159111408, 0.9096417159111408, 0.9096417159111408, 0.9096417159111408, 0.9096417159111408, 0.9154034537368219, 0.9154034537368219]}], \"recall_score_weighted\": [{\"categories\": [\"0\", \"1\", \"2\", \"3\", \"4\", \"5\", \"6\", \"7\", \"8\", \"9\", \"10\", \"11\", \"12\", \"13\", \"14\", \"15\", \"16\", \"17\", \"18\", \"19\", \"20\", \"21\", \"22\", \"23\", \"24\", \"25\", \"26\", \"27\", \"28\", \"29\"], \"mode\": \"markers\", \"name\": \"recall_score_weighted\", \"stepped\": false, \"type\": \"scatter\", \"data\": [0.825925925925926, 0.8259932659932661, 0.8326936026936026, 0.8193602693602693, 0.8326262626262627, 0.7823232323232322, 0.8159932659932659, 0.7692592592592593, 0.7925252525252526, 0.8126599326599327, 0.7725925925925926, 0.7756902356902358, 0.8291919191919191, 0.7991919191919191, 0.8460942760942761, 0.7826936026936027, 0.7325925925925926, 0.8258922558922559, 0.7823569023569025, 0.8327609427609427, 0.8359259259259259, 0.8191919191919191, 0.8627609427609428, 0.8393265993265994, 0.8460606060606062, 0.846026936026936, 0.8494276094276095, 0.8327272727272729, 0.8694949494949494, 0.8225252525252525]}, {\"categories\": [\"0\", \"1\", \"2\", \"3\", \"4\", \"5\", \"6\", \"7\", \"8\", \"9\", \"10\", \"11\", \"12\", \"13\", \"14\", \"15\", \"16\", \"17\", \"18\", \"19\", \"20\", \"21\", \"22\", \"23\", \"24\", \"25\", \"26\", \"27\", \"28\", \"29\"], \"mode\": \"lines\", \"name\": \"recall_score_weighted_max\", \"stepped\": true, \"type\": \"scatter\", \"data\": [0.825925925925926, 0.8259932659932661, 0.8326936026936026, 0.8326936026936026, 0.8326936026936026, 0.8326936026936026, 0.8326936026936026, 0.8326936026936026, 0.8326936026936026, 0.8326936026936026, 0.8326936026936026, 0.8326936026936026, 0.8326936026936026, 0.8326936026936026, 0.8460942760942761, 0.8460942760942761, 0.8460942760942761, 0.8460942760942761, 0.8460942760942761, 0.8460942760942761, 0.8460942760942761, 0.8460942760942761, 0.8627609427609428, 0.8627609427609428, 0.8627609427609428, 0.8627609427609428, 0.8627609427609428, 0.8627609427609428, 0.8694949494949494, 0.8694949494949494]}], \"f1_score_macro\": [{\"categories\": [\"0\", \"1\", \"2\", \"3\", \"4\", \"5\", \"6\", \"7\", \"8\", \"9\", \"10\", \"11\", \"12\", \"13\", \"14\", \"15\", \"16\", \"17\", \"18\", \"19\", \"20\", \"21\", \"22\", \"23\", \"24\", \"25\", \"26\", \"27\", \"28\", \"29\"], \"mode\": \"markers\", \"name\": \"f1_score_macro\", \"stepped\": false, \"type\": \"scatter\", \"data\": [0.796275898533339, 0.7893460959638977, 0.7993293848189592, 0.7866119805829154, 0.7980825143101219, 0.7668472352127651, 0.7820130659182905, 0.6939725621062953, 0.7626886117234785, 0.776118964044824, 0.6952611396960376, 0.757208513072437, 0.8083057488286246, 0.7582338298086501, 0.8124732173231098, 0.70185916980635, 0.5987115676726102, 0.8054713929744851, 0.7677959190530507, 0.801615054616669, 0.8151908911712833, 0.7934810184529314, 0.8373433831352338, 0.8126021127871006, 0.8139939379679143, 0.8152657151405588, 0.8169729475946287, 0.8000950184568358, 0.844754328226525, 0.7954489942165129]}, {\"categories\": [\"0\", \"1\", \"2\", \"3\", \"4\", \"5\", \"6\", \"7\", \"8\", \"9\", \"10\", \"11\", \"12\", \"13\", \"14\", \"15\", \"16\", \"17\", \"18\", \"19\", \"20\", \"21\", \"22\", \"23\", \"24\", \"25\", \"26\", \"27\", \"28\", \"29\"], \"mode\": \"lines\", \"name\": \"f1_score_macro_max\", \"stepped\": true, \"type\": \"scatter\", \"data\": [0.796275898533339, 0.796275898533339, 0.7993293848189592, 0.7993293848189592, 0.7993293848189592, 0.7993293848189592, 0.7993293848189592, 0.7993293848189592, 0.7993293848189592, 0.7993293848189592, 0.7993293848189592, 0.7993293848189592, 0.8083057488286246, 0.8083057488286246, 0.8124732173231098, 0.8124732173231098, 0.8124732173231098, 0.8124732173231098, 0.8124732173231098, 0.8124732173231098, 0.8151908911712833, 0.8151908911712833, 0.8373433831352338, 0.8373433831352338, 0.8373433831352338, 0.8373433831352338, 0.8373433831352338, 0.8373433831352338, 0.844754328226525, 0.844754328226525]}], \"precision_score_micro\": [{\"categories\": [\"0\", \"1\", \"2\", \"3\", \"4\", \"5\", \"6\", \"7\", \"8\", \"9\", \"10\", \"11\", \"12\", \"13\", \"14\", \"15\", \"16\", \"17\", \"18\", \"19\", \"20\", \"21\", \"22\", \"23\", \"24\", \"25\", \"26\", \"27\", \"28\", \"29\"], \"mode\": \"markers\", \"name\": \"precision_score_micro\", \"stepped\": false, \"type\": \"scatter\", \"data\": [0.825925925925926, 0.8259932659932661, 0.8326936026936026, 0.8193602693602693, 0.8326262626262627, 0.7823232323232322, 0.8159932659932659, 0.7692592592592593, 0.7925252525252526, 0.8126599326599327, 0.7725925925925926, 0.7756902356902358, 0.8291919191919191, 0.7991919191919191, 0.8460942760942761, 0.7826936026936027, 0.7325925925925926, 0.8258922558922559, 0.7823569023569025, 0.8327609427609427, 0.8359259259259259, 0.8191919191919191, 0.8627609427609428, 0.8393265993265994, 0.8460606060606062, 0.846026936026936, 0.8494276094276095, 0.8327272727272729, 0.8694949494949494, 0.8225252525252525]}, {\"categories\": [\"0\", \"1\", \"2\", \"3\", \"4\", \"5\", \"6\", \"7\", \"8\", \"9\", \"10\", \"11\", \"12\", \"13\", \"14\", \"15\", \"16\", \"17\", \"18\", \"19\", \"20\", \"21\", \"22\", \"23\", \"24\", \"25\", \"26\", \"27\", \"28\", \"29\"], \"mode\": \"lines\", \"name\": \"precision_score_micro_max\", \"stepped\": true, \"type\": \"scatter\", \"data\": [0.825925925925926, 0.8259932659932661, 0.8326936026936026, 0.8326936026936026, 0.8326936026936026, 0.8326936026936026, 0.8326936026936026, 0.8326936026936026, 0.8326936026936026, 0.8326936026936026, 0.8326936026936026, 0.8326936026936026, 0.8326936026936026, 0.8326936026936026, 0.8460942760942761, 0.8460942760942761, 0.8460942760942761, 0.8460942760942761, 0.8460942760942761, 0.8460942760942761, 0.8460942760942761, 0.8460942760942761, 0.8627609427609428, 0.8627609427609428, 0.8627609427609428, 0.8627609427609428, 0.8627609427609428, 0.8627609427609428, 0.8694949494949494, 0.8694949494949494]}], \"recall_score_macro\": [{\"categories\": [\"0\", \"1\", \"2\", \"3\", \"4\", \"5\", \"6\", \"7\", \"8\", \"9\", \"10\", \"11\", \"12\", \"13\", \"14\", \"15\", \"16\", \"17\", \"18\", \"19\", \"20\", \"21\", \"22\", \"23\", \"24\", \"25\", \"26\", \"27\", \"28\", \"29\"], \"mode\": \"markers\", \"name\": \"recall_score_macro\", \"stepped\": false, \"type\": \"scatter\", \"data\": [0.7924492893418248, 0.7839119650592231, 0.7953753796933696, 0.7858126187009843, 0.787404365200616, 0.7968434674766792, 0.7772731375803072, 0.6918352095827518, 0.77215771678719, 0.7717475780505779, 0.6923053403710161, 0.7826905955868697, 0.8177239766502308, 0.757231159120729, 0.7983063828427527, 0.691117641537506, 0.6158666195357606, 0.8206137402567836, 0.7989715277403328, 0.7982351472740961, 0.8294447939320956, 0.8022967529601605, 0.8270320310424918, 0.8171840282146373, 0.8057618531233212, 0.8042071722854295, 0.8024285197899879, 0.8019129755778028, 0.834464574933148, 0.8010687931492432]}, {\"categories\": [\"0\", \"1\", \"2\", \"3\", \"4\", \"5\", \"6\", \"7\", \"8\", \"9\", \"10\", \"11\", \"12\", \"13\", \"14\", \"15\", \"16\", \"17\", \"18\", \"19\", \"20\", \"21\", \"22\", \"23\", \"24\", \"25\", \"26\", \"27\", \"28\", \"29\"], \"mode\": \"lines\", \"name\": \"recall_score_macro_max\", \"stepped\": true, \"type\": \"scatter\", \"data\": [0.7924492893418248, 0.7924492893418248, 0.7953753796933696, 0.7953753796933696, 0.7953753796933696, 0.7968434674766792, 0.7968434674766792, 0.7968434674766792, 0.7968434674766792, 0.7968434674766792, 0.7968434674766792, 0.7968434674766792, 0.8177239766502308, 0.8177239766502308, 0.8177239766502308, 0.8177239766502308, 0.8177239766502308, 0.8206137402567836, 0.8206137402567836, 0.8206137402567836, 0.8294447939320956, 0.8294447939320956, 0.8294447939320956, 0.8294447939320956, 0.8294447939320956, 0.8294447939320956, 0.8294447939320956, 0.8294447939320956, 0.834464574933148, 0.834464574933148]}], \"AUC_micro\": [{\"categories\": [\"0\", \"1\", \"2\", \"3\", \"4\", \"5\", \"6\", \"7\", \"8\", \"9\", \"10\", \"11\", \"12\", \"13\", \"14\", \"15\", \"16\", \"17\", \"18\", \"19\", \"20\", \"21\", \"22\", \"23\", \"24\", \"25\", \"26\", \"27\", \"28\", \"29\"], \"mode\": \"markers\", \"name\": \"AUC_micro\", \"stepped\": false, \"type\": \"scatter\", \"data\": [0.8911140699928578, 0.897847063224841, 0.9131188008026392, 0.8796369111995374, 0.9062291228786178, 0.8538313403394211, 0.9028545913682278, 0.870884790667619, 0.8886592456552053, 0.8821061150222768, 0.8627387749549366, 0.8506397986600006, 0.8765183042546679, 0.867378029452777, 0.8988404584566201, 0.8695402918069585, 0.8382284528789579, 0.8977475733768663, 0.8488909022888821, 0.8851712580348945, 0.893152144339013, 0.8733665272251131, 0.9106326769377274, 0.8864453763221439, 0.9043874978743665, 0.8925419855116825, 0.9026864809713295, 0.8868057817229534, 0.9130184607012891, 0.8917568785498079]}, {\"categories\": [\"0\", \"1\", \"2\", \"3\", \"4\", \"5\", \"6\", \"7\", \"8\", \"9\", \"10\", \"11\", \"12\", \"13\", \"14\", \"15\", \"16\", \"17\", \"18\", \"19\", \"20\", \"21\", \"22\", \"23\", \"24\", \"25\", \"26\", \"27\", \"28\", \"29\"], \"mode\": \"lines\", \"name\": \"AUC_micro_max\", \"stepped\": true, \"type\": \"scatter\", \"data\": [0.8911140699928578, 0.897847063224841, 0.9131188008026392, 0.9131188008026392, 0.9131188008026392, 0.9131188008026392, 0.9131188008026392, 0.9131188008026392, 0.9131188008026392, 0.9131188008026392, 0.9131188008026392, 0.9131188008026392, 0.9131188008026392, 0.9131188008026392, 0.9131188008026392, 0.9131188008026392, 0.9131188008026392, 0.9131188008026392, 0.9131188008026392, 0.9131188008026392, 0.9131188008026392, 0.9131188008026392, 0.9131188008026392, 0.9131188008026392, 0.9131188008026392, 0.9131188008026392, 0.9131188008026392, 0.9131188008026392, 0.9131188008026392, 0.9131188008026392]}], \"f1_score_weighted\": [{\"categories\": [\"0\", \"1\", \"2\", \"3\", \"4\", \"5\", \"6\", \"7\", \"8\", \"9\", \"10\", \"11\", \"12\", \"13\", \"14\", \"15\", \"16\", \"17\", \"18\", \"19\", \"20\", \"21\", \"22\", \"23\", \"24\", \"25\", \"26\", \"27\", \"28\", \"29\"], \"mode\": \"markers\", \"name\": \"f1_score_weighted\", \"stepped\": false, \"type\": \"scatter\", \"data\": [0.8211819354480298, 0.8188619012721535, 0.8276351382723778, 0.8157893138981119, 0.8267218534536306, 0.7882854232275643, 0.8105899982444146, 0.7437737050796022, 0.7931022248375342, 0.8076187339230819, 0.7512394742815008, 0.7818527247403891, 0.8317630346388517, 0.7915990631465828, 0.8397916311660881, 0.7544534704757982, 0.6753447031512557, 0.8294968538907718, 0.7879415899079522, 0.8291083461172212, 0.8388203934772562, 0.8210455861695459, 0.8585951220258448, 0.8377008763812676, 0.839842439092136, 0.8411806846099713, 0.8428638536317618, 0.8276893179594499, 0.8644123899319784, 0.8194831661270913]}, {\"categories\": [\"0\", \"1\", \"2\", \"3\", \"4\", \"5\", \"6\", \"7\", \"8\", \"9\", \"10\", \"11\", \"12\", \"13\", \"14\", \"15\", \"16\", \"17\", \"18\", \"19\", \"20\", \"21\", \"22\", \"23\", \"24\", \"25\", \"26\", \"27\", \"28\", \"29\"], \"mode\": \"lines\", \"name\": \"f1_score_weighted_max\", \"stepped\": true, \"type\": \"scatter\", \"data\": [0.8211819354480298, 0.8211819354480298, 0.8276351382723778, 0.8276351382723778, 0.8276351382723778, 0.8276351382723778, 0.8276351382723778, 0.8276351382723778, 0.8276351382723778, 0.8276351382723778, 0.8276351382723778, 0.8276351382723778, 0.8317630346388517, 0.8317630346388517, 0.8397916311660881, 0.8397916311660881, 0.8397916311660881, 0.8397916311660881, 0.8397916311660881, 0.8397916311660881, 0.8397916311660881, 0.8397916311660881, 0.8585951220258448, 0.8585951220258448, 0.8585951220258448, 0.8585951220258448, 0.8585951220258448, 0.8585951220258448, 0.8644123899319784, 0.8644123899319784]}], \"matthews_correlation\": [{\"categories\": [\"0\", \"1\", \"2\", \"3\", \"4\", \"5\", \"6\", \"7\", \"8\", \"9\", \"10\", \"11\", \"12\", \"13\", \"14\", \"15\", \"16\", \"17\", \"18\", \"19\", \"20\", \"21\", \"22\", \"23\", \"24\", \"25\", \"26\", \"27\", \"28\", \"29\"], \"mode\": \"markers\", \"name\": \"matthews_correlation\", \"stepped\": false, \"type\": \"scatter\", \"data\": [0.6061286118162602, 0.6030401714674086, 0.617907361383614, 0.5892349503306011, 0.6172354682136966, 0.5630937495916523, 0.5805324599249179, 0.45846966321137966, 0.5367036276759484, 0.5707971396475794, 0.46220004323686464, 0.5326469102278236, 0.6208562556890646, 0.5460925127447823, 0.6431875346721343, 0.4873250213824227, 0.3418270469094656, 0.6191564030479848, 0.5681683147965034, 0.6155865376965951, 0.6357509200830301, 0.5915727623618918, 0.6907507762899913, 0.6399393202562789, 0.6484894243827685, 0.6448067409975726, 0.6568123343795101, 0.6258838217708192, 0.707675030566083, 0.6163102381055967]}, {\"categories\": [\"0\", \"1\", \"2\", \"3\", \"4\", \"5\", \"6\", \"7\", \"8\", \"9\", \"10\", \"11\", \"12\", \"13\", \"14\", \"15\", \"16\", \"17\", \"18\", \"19\", \"20\", \"21\", \"22\", \"23\", \"24\", \"25\", \"26\", \"27\", \"28\", \"29\"], \"mode\": \"lines\", \"name\": \"matthews_correlation_max\", \"stepped\": true, \"type\": \"scatter\", \"data\": [0.6061286118162602, 0.6061286118162602, 0.617907361383614, 0.617907361383614, 0.617907361383614, 0.617907361383614, 0.617907361383614, 0.617907361383614, 0.617907361383614, 0.617907361383614, 0.617907361383614, 0.617907361383614, 0.6208562556890646, 0.6208562556890646, 0.6431875346721343, 0.6431875346721343, 0.6431875346721343, 0.6431875346721343, 0.6431875346721343, 0.6431875346721343, 0.6431875346721343, 0.6431875346721343, 0.6907507762899913, 0.6907507762899913, 0.6907507762899913, 0.6907507762899913, 0.6907507762899913, 0.6907507762899913, 0.707675030566083, 0.707675030566083]}], \"average_precision_score_weighted\": [{\"categories\": [\"0\", \"1\", \"2\", \"3\", \"4\", \"5\", \"6\", \"7\", \"8\", \"9\", \"10\", \"11\", \"12\", \"13\", \"14\", \"15\", \"16\", \"17\", \"18\", \"19\", \"20\", \"21\", \"22\", \"23\", \"24\", \"25\", \"26\", \"27\", \"28\", \"29\"], \"mode\": \"markers\", \"name\": \"average_precision_score_weighted\", \"stepped\": false, \"type\": \"scatter\", \"data\": [0.8977219335443646, 0.907002877554759, 0.9222476947575023, 0.8817851886202006, 0.9131815030825051, 0.8874015346465396, 0.9038377756957345, 0.8870717099392046, 0.8939654909169672, 0.8791716712952945, 0.8775189724576796, 0.857726755332732, 0.879129538210889, 0.8619825929399975, 0.8986381350594237, 0.8879665914020715, 0.8464238906218554, 0.9020323880724384, 0.8878042824624065, 0.8834846274434444, 0.896797247743866, 0.8645235484381937, 0.9191283753675252, 0.887454180215926, 0.9171483311949764, 0.9006141427336001, 0.9072873341199976, 0.8870949138187804, 0.9157494434539847, 0.9075143697985865]}, {\"categories\": [\"0\", \"1\", \"2\", \"3\", \"4\", \"5\", \"6\", \"7\", \"8\", \"9\", \"10\", \"11\", \"12\", \"13\", \"14\", \"15\", \"16\", \"17\", \"18\", \"19\", \"20\", \"21\", \"22\", \"23\", \"24\", \"25\", \"26\", \"27\", \"28\", \"29\"], \"mode\": \"lines\", \"name\": \"average_precision_score_weighted_max\", \"stepped\": true, \"type\": \"scatter\", \"data\": [0.8977219335443646, 0.907002877554759, 0.9222476947575023, 0.9222476947575023, 0.9222476947575023, 0.9222476947575023, 0.9222476947575023, 0.9222476947575023, 0.9222476947575023, 0.9222476947575023, 0.9222476947575023, 0.9222476947575023, 0.9222476947575023, 0.9222476947575023, 0.9222476947575023, 0.9222476947575023, 0.9222476947575023, 0.9222476947575023, 0.9222476947575023, 0.9222476947575023, 0.9222476947575023, 0.9222476947575023, 0.9222476947575023, 0.9222476947575023, 0.9222476947575023, 0.9222476947575023, 0.9222476947575023, 0.9222476947575023, 0.9222476947575023, 0.9222476947575023]}], \"f1_score_micro\": [{\"categories\": [\"0\", \"1\", \"2\", \"3\", \"4\", \"5\", \"6\", \"7\", \"8\", \"9\", \"10\", \"11\", \"12\", \"13\", \"14\", \"15\", \"16\", \"17\", \"18\", \"19\", \"20\", \"21\", \"22\", \"23\", \"24\", \"25\", \"26\", \"27\", \"28\", \"29\"], \"mode\": \"markers\", \"name\": \"f1_score_micro\", \"stepped\": false, \"type\": \"scatter\", \"data\": [0.825925925925926, 0.825993265993266, 0.8326936026936026, 0.8193602693602693, 0.8326262626262627, 0.7823232323232322, 0.8159932659932659, 0.7692592592592593, 0.7925252525252525, 0.8126599326599327, 0.7725925925925926, 0.7756902356902357, 0.8291919191919191, 0.7991919191919191, 0.8460942760942761, 0.7826936026936027, 0.7325925925925927, 0.8258922558922559, 0.7823569023569023, 0.8327609427609427, 0.8359259259259259, 0.8191919191919191, 0.8627609427609428, 0.8393265993265993, 0.8460606060606062, 0.8460269360269361, 0.8494276094276095, 0.8327272727272729, 0.8694949494949497, 0.8225252525252525]}, {\"categories\": [\"0\", \"1\", \"2\", \"3\", \"4\", \"5\", \"6\", \"7\", \"8\", \"9\", \"10\", \"11\", \"12\", \"13\", \"14\", \"15\", \"16\", \"17\", \"18\", \"19\", \"20\", \"21\", \"22\", \"23\", \"24\", \"25\", \"26\", \"27\", \"28\", \"29\"], \"mode\": \"lines\", \"name\": \"f1_score_micro_max\", \"stepped\": true, \"type\": \"scatter\", \"data\": [0.825925925925926, 0.825993265993266, 0.8326936026936026, 0.8326936026936026, 0.8326936026936026, 0.8326936026936026, 0.8326936026936026, 0.8326936026936026, 0.8326936026936026, 0.8326936026936026, 0.8326936026936026, 0.8326936026936026, 0.8326936026936026, 0.8326936026936026, 0.8460942760942761, 0.8460942760942761, 0.8460942760942761, 0.8460942760942761, 0.8460942760942761, 0.8460942760942761, 0.8460942760942761, 0.8460942760942761, 0.8627609427609428, 0.8627609427609428, 0.8627609427609428, 0.8627609427609428, 0.8627609427609428, 0.8627609427609428, 0.8694949494949497, 0.8694949494949497]}], \"accuracy\": [{\"categories\": [\"0\", \"1\", \"2\", \"3\", \"4\", \"5\", \"6\", \"7\", \"8\", \"9\", \"10\", \"11\", \"12\", \"13\", \"14\", \"15\", \"16\", \"17\", \"18\", \"19\", \"20\", \"21\", \"22\", \"23\", \"24\", \"25\", \"26\", \"27\", \"28\", \"29\"], \"mode\": \"markers\", \"name\": \"accuracy\", \"stepped\": false, \"type\": \"scatter\", \"data\": [0.825925925925926, 0.8259932659932661, 0.8326936026936026, 0.8193602693602693, 0.8326262626262627, 0.7823232323232322, 0.8159932659932659, 0.7692592592592593, 0.7925252525252526, 0.8126599326599327, 0.7725925925925926, 0.7756902356902358, 0.8291919191919191, 0.7991919191919191, 0.8460942760942761, 0.7826936026936027, 0.7325925925925926, 0.8258922558922559, 0.7823569023569025, 0.8327609427609427, 0.8359259259259259, 0.8191919191919191, 0.8627609427609428, 0.8393265993265994, 0.8460606060606062, 0.846026936026936, 0.8494276094276095, 0.8327272727272729, 0.8694949494949494, 0.8225252525252525]}, {\"categories\": [\"0\", \"1\", \"2\", \"3\", \"4\", \"5\", \"6\", \"7\", \"8\", \"9\", \"10\", \"11\", \"12\", \"13\", \"14\", \"15\", \"16\", \"17\", \"18\", \"19\", \"20\", \"21\", \"22\", \"23\", \"24\", \"25\", \"26\", \"27\", \"28\", \"29\"], \"mode\": \"lines\", \"name\": \"accuracy_max\", \"stepped\": true, \"type\": \"scatter\", \"data\": [0.825925925925926, 0.8259932659932661, 0.8326936026936026, 0.8326936026936026, 0.8326936026936026, 0.8326936026936026, 0.8326936026936026, 0.8326936026936026, 0.8326936026936026, 0.8326936026936026, 0.8326936026936026, 0.8326936026936026, 0.8326936026936026, 0.8326936026936026, 0.8460942760942761, 0.8460942760942761, 0.8460942760942761, 0.8460942760942761, 0.8460942760942761, 0.8460942760942761, 0.8460942760942761, 0.8460942760942761, 0.8627609427609428, 0.8627609427609428, 0.8627609427609428, 0.8627609427609428, 0.8627609427609428, 0.8627609427609428, 0.8694949494949494, 0.8694949494949494]}]}, \"metricName\": null, \"primaryMetricName\": \"accuracy\", \"showLegend\": false}, \"run_metrics\": [{\"name\": \"experiment_status\", \"run_id\": \"AutoML_3bca6b22-132a-4b79-8deb-fadb9dcd3e3d\", \"categories\": [0, 1, 2, 3, 4, 5, 6, 7, 8, 9, 10, 11, 12, 13], \"series\": [{\"data\": [\"DatasetEvaluation\", \"FeaturesGeneration\", \"DatasetFeaturization\", \"DatasetFeaturizationCompleted\", \"DatasetCrossValidationSplit\", \"ModelSelection\", \"BestRunExplainModel\", \"ModelExplanationDataSetSetup\", \"PickSurrogateModel\", \"EngineeredFeatureExplanations\", \"EngineeredFeatureExplanations\", \"RawFeaturesExplanations\", \"RawFeaturesExplanations\", \"BestRunExplainModel\"]}]}, {\"name\": \"experiment_status_description\", \"run_id\": \"AutoML_3bca6b22-132a-4b79-8deb-fadb9dcd3e3d\", \"categories\": [0, 1, 2, 3, 4, 5, 6, 7, 8, 9, 10, 11, 12, 13], \"series\": [{\"data\": [\"Gathering dataset statistics.\", \"Generating features for the dataset.\", \"Beginning to fit featurizers and featurize the dataset.\", \"Completed fit featurizers and featurizing the dataset.\", \"Generating individually featurized CV splits.\", \"Beginning model selection.\", \"Best run model explanations started\", \"Model explanations data setup completed\", \"Choosing LightGBM as the surrogate model for explanations\", \"Computation of engineered features started\", \"Computation of engineered features completed\", \"Computation of raw features started\", \"Computation of raw features completed\", \"Best run model explanations completed\"]}]}, {\"name\": \"precision_score_macro\", \"run_id\": \"AutoML_3bca6b22-132a-4b79-8deb-fadb9dcd3e3d\", \"categories\": [0], \"series\": [{\"data\": [0.8750564129911956]}]}, {\"name\": \"weighted_accuracy\", \"run_id\": \"AutoML_3bca6b22-132a-4b79-8deb-fadb9dcd3e3d\", \"categories\": [0], \"series\": [{\"data\": [0.8964486973926088]}]}, {\"name\": \"recall_score_micro\", \"run_id\": \"AutoML_3bca6b22-132a-4b79-8deb-fadb9dcd3e3d\", \"categories\": [0], \"series\": [{\"data\": [0.8694949494949494]}]}, {\"name\": \"norm_macro_recall\", \"run_id\": \"AutoML_3bca6b22-132a-4b79-8deb-fadb9dcd3e3d\", \"categories\": [0], \"series\": [{\"data\": [0.668929149866296]}]}, {\"name\": \"balanced_accuracy\", \"run_id\": \"AutoML_3bca6b22-132a-4b79-8deb-fadb9dcd3e3d\", \"categories\": [0], \"series\": [{\"data\": [0.834464574933148]}]}, {\"name\": \"log_loss\", \"run_id\": \"AutoML_3bca6b22-132a-4b79-8deb-fadb9dcd3e3d\", \"categories\": [0], \"series\": [{\"data\": [0.4157839503480894]}]}, {\"name\": \"precision_score_weighted\", \"run_id\": \"AutoML_3bca6b22-132a-4b79-8deb-fadb9dcd3e3d\", \"categories\": [0], \"series\": [{\"data\": [0.87701612536685]}]}, {\"name\": \"average_precision_score_macro\", \"run_id\": \"AutoML_3bca6b22-132a-4b79-8deb-fadb9dcd3e3d\", \"categories\": [0], \"series\": [{\"data\": [0.8956622437165036]}]}, {\"name\": \"average_precision_score_micro\", \"run_id\": \"AutoML_3bca6b22-132a-4b79-8deb-fadb9dcd3e3d\", \"categories\": [0], \"series\": [{\"data\": [0.9129738769076706]}]}, {\"name\": \"AUC_macro\", \"run_id\": \"AutoML_3bca6b22-132a-4b79-8deb-fadb9dcd3e3d\", \"categories\": [0], \"series\": [{\"data\": [0.9154034537368219]}]}, {\"name\": \"AUC_weighted\", \"run_id\": \"AutoML_3bca6b22-132a-4b79-8deb-fadb9dcd3e3d\", \"categories\": [0], \"series\": [{\"data\": [0.9154034537368219]}]}, {\"name\": \"recall_score_weighted\", \"run_id\": \"AutoML_3bca6b22-132a-4b79-8deb-fadb9dcd3e3d\", \"categories\": [0], \"series\": [{\"data\": [0.8694949494949494]}]}, {\"name\": \"f1_score_macro\", \"run_id\": \"AutoML_3bca6b22-132a-4b79-8deb-fadb9dcd3e3d\", \"categories\": [0], \"series\": [{\"data\": [0.844754328226525]}]}, {\"name\": \"precision_score_micro\", \"run_id\": \"AutoML_3bca6b22-132a-4b79-8deb-fadb9dcd3e3d\", \"categories\": [0], \"series\": [{\"data\": [0.8694949494949494]}]}, {\"name\": \"recall_score_macro\", \"run_id\": \"AutoML_3bca6b22-132a-4b79-8deb-fadb9dcd3e3d\", \"categories\": [0], \"series\": [{\"data\": [0.834464574933148]}]}, {\"name\": \"AUC_micro\", \"run_id\": \"AutoML_3bca6b22-132a-4b79-8deb-fadb9dcd3e3d\", \"categories\": [0], \"series\": [{\"data\": [0.9130184607012891]}]}, {\"name\": \"f1_score_weighted\", \"run_id\": \"AutoML_3bca6b22-132a-4b79-8deb-fadb9dcd3e3d\", \"categories\": [0], \"series\": [{\"data\": [0.8644123899319784]}]}, {\"name\": \"matthews_correlation\", \"run_id\": \"AutoML_3bca6b22-132a-4b79-8deb-fadb9dcd3e3d\", \"categories\": [0], \"series\": [{\"data\": [0.707675030566083]}]}, {\"name\": \"average_precision_score_weighted\", \"run_id\": \"AutoML_3bca6b22-132a-4b79-8deb-fadb9dcd3e3d\", \"categories\": [0], \"series\": [{\"data\": [0.9157494434539847]}]}, {\"name\": \"f1_score_micro\", \"run_id\": \"AutoML_3bca6b22-132a-4b79-8deb-fadb9dcd3e3d\", \"categories\": [0], \"series\": [{\"data\": [0.8694949494949497]}]}, {\"name\": \"accuracy\", \"run_id\": \"AutoML_3bca6b22-132a-4b79-8deb-fadb9dcd3e3d\", \"categories\": [0], \"series\": [{\"data\": [0.8694949494949494]}]}], \"run_logs\": \"\\nRun is completed.\", \"graph\": {}, \"widget_settings\": {\"childWidgetDisplay\": \"popup\", \"send_telemetry\": false, \"log_level\": \"INFO\", \"sdk_version\": \"1.18.0\"}, \"loading\": false}"
          },
          "metadata": {}
        },
        {
          "output_type": "execute_result",
          "execution_count": 6,
          "data": {
            "text/plain": "{'runId': 'AutoML_3bca6b22-132a-4b79-8deb-fadb9dcd3e3d',\n 'target': 'local',\n 'status': 'Completed',\n 'startTimeUtc': '2020-11-22T21:02:10.875245Z',\n 'endTimeUtc': '2020-11-22T21:19:44.819104Z',\n 'properties': {'num_iterations': '30',\n  'training_type': 'TrainFull',\n  'acquisition_function': 'EI',\n  'primary_metric': 'accuracy',\n  'train_split': '0',\n  'acquisition_parameter': '0',\n  'num_cross_validation': '3',\n  'target': 'local',\n  'AMLSettingsJsonString': '{\"path\":null,\"name\":\"automl_heartfailure\",\"subscription_id\":\"641a5604-2a7e-401d-a98d-ee5182f46af8\",\"resource_group\":\"djs-test-e\",\"workspace_name\":\"davidudacitycapstone\",\"region\":\"eastus\",\"compute_target\":\"local\",\"spark_service\":null,\"azure_service\":\"Microsoft.AzureNotebookVM\",\"_local_managed_run_id\":null,\"many_models\":false,\"pipeline_fetch_max_batch_size\":1,\"iterations\":30,\"primary_metric\":\"accuracy\",\"task_type\":\"classification\",\"data_script\":null,\"validation_size\":0.0,\"n_cross_validations\":3,\"y_min\":null,\"y_max\":null,\"num_classes\":2,\"featurization\":\"auto\",\"_ignore_package_version_incompatibilities\":false,\"is_timeseries\":false,\"max_cores_per_iteration\":-1,\"max_concurrent_iterations\":8,\"iteration_timeout_minutes\":null,\"mem_in_mb\":null,\"enforce_time_on_windows\":false,\"experiment_timeout_minutes\":15,\"experiment_exit_score\":null,\"whitelist_models\":null,\"blacklist_algos\":[\"TensorFlowLinearClassifier\",\"TensorFlowDNN\"],\"supported_models\":[\"BernoulliNaiveBayes\",\"LightGBM\",\"SGD\",\"XGBoostClassifier\",\"LinearSVM\",\"RandomForest\",\"TensorFlowDNN\",\"AveragedPerceptronClassifier\",\"KNN\",\"LogisticRegression\",\"GradientBoosting\",\"DecisionTree\",\"SVM\",\"MultinomialNaiveBayes\",\"ExtremeRandomTrees\",\"TensorFlowLinearClassifier\"],\"auto_blacklist\":true,\"blacklist_samples_reached\":false,\"exclude_nan_labels\":true,\"verbosity\":20,\"_debug_log\":\"automl.log\",\"show_warnings\":false,\"model_explainability\":true,\"service_url\":null,\"sdk_url\":null,\"sdk_packages\":null,\"enable_onnx_compatible_models\":false,\"enable_split_onnx_featurizer_estimator_models\":false,\"vm_type\":null,\"telemetry_verbosity\":20,\"send_telemetry\":true,\"enable_dnn\":false,\"scenario\":\"SDK-1.13.0\",\"environment_label\":null,\"force_text_dnn\":false,\"enable_feature_sweeping\":true,\"enable_early_stopping\":false,\"early_stopping_n_iters\":10,\"metrics\":null,\"enable_ensembling\":true,\"enable_stack_ensembling\":true,\"ensemble_iterations\":15,\"enable_tf\":false,\"enable_subsampling\":false,\"subsample_seed\":null,\"enable_nimbusml\":false,\"enable_streaming\":false,\"force_streaming\":false,\"track_child_runs\":true,\"allowed_private_models\":[],\"label_column_name\":\"DEATH_EVENT\",\"weight_column_name\":null,\"cv_split_column_names\":null,\"enable_local_managed\":false,\"cost_mode\":1,\"lag_length\":0,\"metric_operation\":\"maximize\",\"preprocess\":true}',\n  'DataPrepJsonString': '{\\\\\"training_data\\\\\": \\\\\"{\\\\\\\\\\\\\"blocks\\\\\\\\\\\\\": [{\\\\\\\\\\\\\"id\\\\\\\\\\\\\": \\\\\\\\\\\\\"79b00daa-6230-4e2b-9536-cb14f26da441\\\\\\\\\\\\\", \\\\\\\\\\\\\"type\\\\\\\\\\\\\": \\\\\\\\\\\\\"Microsoft.DPrep.GetDatastoreFilesBlock\\\\\\\\\\\\\", \\\\\\\\\\\\\"arguments\\\\\\\\\\\\\": {\\\\\\\\\\\\\"datastores\\\\\\\\\\\\\": [{\\\\\\\\\\\\\"datastoreName\\\\\\\\\\\\\": \\\\\\\\\\\\\"workspaceblobstore\\\\\\\\\\\\\", \\\\\\\\\\\\\"path\\\\\\\\\\\\\": \\\\\\\\\\\\\"UI/11-22-2020_072009_UTC/heart_failure_clinical_records_dataset (2).csv\\\\\\\\\\\\\", \\\\\\\\\\\\\"resourceGroup\\\\\\\\\\\\\": \\\\\\\\\\\\\"djs-test-e\\\\\\\\\\\\\", \\\\\\\\\\\\\"subscription\\\\\\\\\\\\\": \\\\\\\\\\\\\"641a5604-2a7e-401d-a98d-ee5182f46af8\\\\\\\\\\\\\", \\\\\\\\\\\\\"workspaceName\\\\\\\\\\\\\": \\\\\\\\\\\\\"davidudacitycapstone\\\\\\\\\\\\\"}]}, \\\\\\\\\\\\\"localData\\\\\\\\\\\\\": {}, \\\\\\\\\\\\\"isEnabled\\\\\\\\\\\\\": true, \\\\\\\\\\\\\"name\\\\\\\\\\\\\": null, \\\\\\\\\\\\\"annotation\\\\\\\\\\\\\": null}, {\\\\\\\\\\\\\"id\\\\\\\\\\\\\": \\\\\\\\\\\\\"e31f2dc2-ff7a-4321-a029-728bae96ece0\\\\\\\\\\\\\", \\\\\\\\\\\\\"type\\\\\\\\\\\\\": \\\\\\\\\\\\\"Microsoft.DPrep.ParseDelimitedBlock\\\\\\\\\\\\\", \\\\\\\\\\\\\"arguments\\\\\\\\\\\\\": {\\\\\\\\\\\\\"columnHeadersMode\\\\\\\\\\\\\": 2, \\\\\\\\\\\\\"fileEncoding\\\\\\\\\\\\\": 0, \\\\\\\\\\\\\"handleQuotedLineBreaks\\\\\\\\\\\\\": false, \\\\\\\\\\\\\"preview\\\\\\\\\\\\\": false, \\\\\\\\\\\\\"separator\\\\\\\\\\\\\": \\\\\\\\\\\\\",\\\\\\\\\\\\\", \\\\\\\\\\\\\"skipRows\\\\\\\\\\\\\": 0, \\\\\\\\\\\\\"skipRowsMode\\\\\\\\\\\\\": 0}, \\\\\\\\\\\\\"localData\\\\\\\\\\\\\": {}, \\\\\\\\\\\\\"isEnabled\\\\\\\\\\\\\": true, \\\\\\\\\\\\\"name\\\\\\\\\\\\\": null, \\\\\\\\\\\\\"annotation\\\\\\\\\\\\\": null}, {\\\\\\\\\\\\\"id\\\\\\\\\\\\\": \\\\\\\\\\\\\"ad8ffe5c-a6a9-4db3-996d-b909e8661d9f\\\\\\\\\\\\\", \\\\\\\\\\\\\"type\\\\\\\\\\\\\": \\\\\\\\\\\\\"Microsoft.DPrep.DropColumnsBlock\\\\\\\\\\\\\", \\\\\\\\\\\\\"arguments\\\\\\\\\\\\\": {\\\\\\\\\\\\\"columns\\\\\\\\\\\\\": {\\\\\\\\\\\\\"type\\\\\\\\\\\\\": 0, \\\\\\\\\\\\\"details\\\\\\\\\\\\\": {\\\\\\\\\\\\\"selectedColumns\\\\\\\\\\\\\": [\\\\\\\\\\\\\"Path\\\\\\\\\\\\\"]}}}, \\\\\\\\\\\\\"localData\\\\\\\\\\\\\": {}, \\\\\\\\\\\\\"isEnabled\\\\\\\\\\\\\": true, \\\\\\\\\\\\\"name\\\\\\\\\\\\\": null, \\\\\\\\\\\\\"annotation\\\\\\\\\\\\\": null}, {\\\\\\\\\\\\\"id\\\\\\\\\\\\\": \\\\\\\\\\\\\"0d4e95c3-6bb5-4280-85a3-8c0e573d5b2b\\\\\\\\\\\\\", \\\\\\\\\\\\\"type\\\\\\\\\\\\\": \\\\\\\\\\\\\"Microsoft.DPrep.SetColumnTypesBlock\\\\\\\\\\\\\", \\\\\\\\\\\\\"arguments\\\\\\\\\\\\\": {\\\\\\\\\\\\\"columnConversion\\\\\\\\\\\\\": [{\\\\\\\\\\\\\"column\\\\\\\\\\\\\": {\\\\\\\\\\\\\"type\\\\\\\\\\\\\": 2, \\\\\\\\\\\\\"details\\\\\\\\\\\\\": {\\\\\\\\\\\\\"selectedColumn\\\\\\\\\\\\\": \\\\\\\\\\\\\"Path\\\\\\\\\\\\\"}}, \\\\\\\\\\\\\"typeProperty\\\\\\\\\\\\\": 0}, {\\\\\\\\\\\\\"column\\\\\\\\\\\\\": {\\\\\\\\\\\\\"type\\\\\\\\\\\\\": 2, \\\\\\\\\\\\\"details\\\\\\\\\\\\\": {\\\\\\\\\\\\\"selectedColumn\\\\\\\\\\\\\": \\\\\\\\\\\\\"age\\\\\\\\\\\\\"}}, \\\\\\\\\\\\\"typeProperty\\\\\\\\\\\\\": 3}, {\\\\\\\\\\\\\"column\\\\\\\\\\\\\": {\\\\\\\\\\\\\"type\\\\\\\\\\\\\": 2, \\\\\\\\\\\\\"details\\\\\\\\\\\\\": {\\\\\\\\\\\\\"selectedColumn\\\\\\\\\\\\\": \\\\\\\\\\\\\"anaemia\\\\\\\\\\\\\"}}, \\\\\\\\\\\\\"typeProperty\\\\\\\\\\\\\": 2}, {\\\\\\\\\\\\\"column\\\\\\\\\\\\\": {\\\\\\\\\\\\\"type\\\\\\\\\\\\\": 2, \\\\\\\\\\\\\"details\\\\\\\\\\\\\": {\\\\\\\\\\\\\"selectedColumn\\\\\\\\\\\\\": \\\\\\\\\\\\\"creatinine_phosphokinase\\\\\\\\\\\\\"}}, \\\\\\\\\\\\\"typeProperty\\\\\\\\\\\\\": 2}, {\\\\\\\\\\\\\"column\\\\\\\\\\\\\": {\\\\\\\\\\\\\"type\\\\\\\\\\\\\": 2, \\\\\\\\\\\\\"details\\\\\\\\\\\\\": {\\\\\\\\\\\\\"selectedColumn\\\\\\\\\\\\\": \\\\\\\\\\\\\"diabetes\\\\\\\\\\\\\"}}, \\\\\\\\\\\\\"typeProperty\\\\\\\\\\\\\": 2}, {\\\\\\\\\\\\\"column\\\\\\\\\\\\\": {\\\\\\\\\\\\\"type\\\\\\\\\\\\\": 2, \\\\\\\\\\\\\"details\\\\\\\\\\\\\": {\\\\\\\\\\\\\"selectedColumn\\\\\\\\\\\\\": \\\\\\\\\\\\\"ejection_fraction\\\\\\\\\\\\\"}}, \\\\\\\\\\\\\"typeProperty\\\\\\\\\\\\\": 2}, {\\\\\\\\\\\\\"column\\\\\\\\\\\\\": {\\\\\\\\\\\\\"type\\\\\\\\\\\\\": 2, \\\\\\\\\\\\\"details\\\\\\\\\\\\\": {\\\\\\\\\\\\\"selectedColumn\\\\\\\\\\\\\": \\\\\\\\\\\\\"high_blood_pressure\\\\\\\\\\\\\"}}, \\\\\\\\\\\\\"typeProperty\\\\\\\\\\\\\": 2}, {\\\\\\\\\\\\\"column\\\\\\\\\\\\\": {\\\\\\\\\\\\\"type\\\\\\\\\\\\\": 2, \\\\\\\\\\\\\"details\\\\\\\\\\\\\": {\\\\\\\\\\\\\"selectedColumn\\\\\\\\\\\\\": \\\\\\\\\\\\\"platelets\\\\\\\\\\\\\"}}, \\\\\\\\\\\\\"typeProperty\\\\\\\\\\\\\": 3}, {\\\\\\\\\\\\\"column\\\\\\\\\\\\\": {\\\\\\\\\\\\\"type\\\\\\\\\\\\\": 2, \\\\\\\\\\\\\"details\\\\\\\\\\\\\": {\\\\\\\\\\\\\"selectedColumn\\\\\\\\\\\\\": \\\\\\\\\\\\\"serum_creatinine\\\\\\\\\\\\\"}}, \\\\\\\\\\\\\"typeProperty\\\\\\\\\\\\\": 3}, {\\\\\\\\\\\\\"column\\\\\\\\\\\\\": {\\\\\\\\\\\\\"type\\\\\\\\\\\\\": 2, \\\\\\\\\\\\\"details\\\\\\\\\\\\\": {\\\\\\\\\\\\\"selectedColumn\\\\\\\\\\\\\": \\\\\\\\\\\\\"serum_sodium\\\\\\\\\\\\\"}}, \\\\\\\\\\\\\"typeProperty\\\\\\\\\\\\\": 2}, {\\\\\\\\\\\\\"column\\\\\\\\\\\\\": {\\\\\\\\\\\\\"type\\\\\\\\\\\\\": 2, \\\\\\\\\\\\\"details\\\\\\\\\\\\\": {\\\\\\\\\\\\\"selectedColumn\\\\\\\\\\\\\": \\\\\\\\\\\\\"sex\\\\\\\\\\\\\"}}, \\\\\\\\\\\\\"typeProperty\\\\\\\\\\\\\": 2}, {\\\\\\\\\\\\\"column\\\\\\\\\\\\\": {\\\\\\\\\\\\\"type\\\\\\\\\\\\\": 2, \\\\\\\\\\\\\"details\\\\\\\\\\\\\": {\\\\\\\\\\\\\"selectedColumn\\\\\\\\\\\\\": \\\\\\\\\\\\\"smoking\\\\\\\\\\\\\"}}, \\\\\\\\\\\\\"typeProperty\\\\\\\\\\\\\": 2}, {\\\\\\\\\\\\\"column\\\\\\\\\\\\\": {\\\\\\\\\\\\\"type\\\\\\\\\\\\\": 2, \\\\\\\\\\\\\"details\\\\\\\\\\\\\": {\\\\\\\\\\\\\"selectedColumn\\\\\\\\\\\\\": \\\\\\\\\\\\\"time\\\\\\\\\\\\\"}}, \\\\\\\\\\\\\"typeProperty\\\\\\\\\\\\\": 2}, {\\\\\\\\\\\\\"column\\\\\\\\\\\\\": {\\\\\\\\\\\\\"type\\\\\\\\\\\\\": 2, \\\\\\\\\\\\\"details\\\\\\\\\\\\\": {\\\\\\\\\\\\\"selectedColumn\\\\\\\\\\\\\": \\\\\\\\\\\\\"DEATH_EVENT\\\\\\\\\\\\\"}}, \\\\\\\\\\\\\"typeProperty\\\\\\\\\\\\\": 2}]}, \\\\\\\\\\\\\"localData\\\\\\\\\\\\\": {}, \\\\\\\\\\\\\"isEnabled\\\\\\\\\\\\\": true, \\\\\\\\\\\\\"name\\\\\\\\\\\\\": null, \\\\\\\\\\\\\"annotation\\\\\\\\\\\\\": null}], \\\\\\\\\\\\\"inspectors\\\\\\\\\\\\\": [], \\\\\\\\\\\\\"meta\\\\\\\\\\\\\": {\\\\\\\\\\\\\"savedDatasetId\\\\\\\\\\\\\": \\\\\\\\\\\\\"93ba933e-eb2a-462e-81e1-77f8e842d947\\\\\\\\\\\\\", \\\\\\\\\\\\\"datasetType\\\\\\\\\\\\\": \\\\\\\\\\\\\"tabular\\\\\\\\\\\\\", \\\\\\\\\\\\\"subscriptionId\\\\\\\\\\\\\": \\\\\\\\\\\\\"641a5604-2a7e-401d-a98d-ee5182f46af8\\\\\\\\\\\\\", \\\\\\\\\\\\\"workspaceId\\\\\\\\\\\\\": \\\\\\\\\\\\\"3219a302-4a55-4f5a-916f-c7651da8bfd3\\\\\\\\\\\\\", \\\\\\\\\\\\\"workspaceLocation\\\\\\\\\\\\\": \\\\\\\\\\\\\"eastus\\\\\\\\\\\\\"}}\\\\\", \\\\\"activities\\\\\": 0}',\n  'EnableSubsampling': 'False',\n  'runTemplate': 'AutoML',\n  'azureml.runsource': 'automl',\n  'display_task_type': 'classification',\n  'dependencies_versions': '{\"azureml-widgets\": \"1.18.0\", \"azureml-train\": \"1.18.0\", \"azureml-train-restclients-hyperdrive\": \"1.18.0\", \"azureml-train-core\": \"1.18.0\", \"azureml-train-automl\": \"1.18.0\", \"azureml-train-automl-runtime\": \"1.18.0\", \"azureml-train-automl-client\": \"1.18.0\", \"azureml-tensorboard\": \"1.18.0\", \"azureml-telemetry\": \"1.18.0\", \"azureml-sdk\": \"1.18.0\", \"azureml-samples\": \"0+unknown\", \"azureml-pipeline\": \"1.18.0\", \"azureml-pipeline-steps\": \"1.18.0\", \"azureml-pipeline-core\": \"1.18.0\", \"azureml-opendatasets\": \"1.18.0\", \"azureml-model-management-sdk\": \"1.0.1b6.post1\", \"azureml-mlflow\": \"1.18.0\", \"azureml-interpret\": \"1.18.0\", \"azureml-explain-model\": \"1.18.0\", \"azureml-defaults\": \"1.18.0\", \"azureml-dataset-runtime\": \"1.18.0\", \"azureml-dataprep\": \"2.4.2\", \"azureml-dataprep-rslex\": \"1.2.2\", \"azureml-dataprep-native\": \"24.0.0\", \"azureml-datadrift\": \"1.18.0\", \"azureml-core\": \"1.18.0\", \"azureml-contrib-services\": \"1.18.0\", \"azureml-contrib-server\": \"1.18.0\", \"azureml-contrib-reinforcementlearning\": \"1.18.0\", \"azureml-contrib-pipeline-steps\": \"1.18.0\", \"azureml-contrib-notebook\": \"1.18.0\", \"azureml-contrib-interpret\": \"1.18.0\", \"azureml-contrib-gbdt\": \"1.18.0\", \"azureml-contrib-fairness\": \"1.18.0\", \"azureml-contrib-dataset\": \"1.18.0\", \"azureml-cli-common\": \"1.18.0\", \"azureml-automl-runtime\": \"1.18.0\", \"azureml-automl-core\": \"1.18.0\", \"azureml-accel-models\": \"1.18.0\"}',\n  '_aml_system_scenario_identification': 'Local.Parent',\n  'ClientSdkVersion': '1.18.0',\n  'ClientType': 'SDK',\n  'environment_cpu_name': 'AzureML-AutoML',\n  'environment_cpu_version': '48',\n  'environment_gpu_name': 'AzureML-AutoML-GPU',\n  'environment_gpu_version': '36',\n  'root_attribution': 'automl',\n  'attribution': 'AutoML',\n  'Orchestrator': 'AutoML',\n  '_azureml.ComputeTargetType': 'local',\n  'ProblemInfoJsonString': '{\"dataset_num_categorical\": 0, \"is_sparse\": false, \"subsampling\": false, \"dataset_classes\": 2, \"dataset_features\": 12, \"dataset_samples\": 299, \"single_frequency_class_detected\": false}',\n  'feature_skus': 'automatedml_sdk_guardrails'},\n 'inputDatasets': [{'dataset': {'id': '93ba933e-eb2a-462e-81e1-77f8e842d947'}, 'consumptionDetails': {'type': 'RunInput', 'inputName': 'training_data', 'mechanism': 'Direct'}}],\n 'outputDatasets': [],\n 'logFiles': {}}"
          },
          "metadata": {}
        }
      ],
      "execution_count": 6,
      "metadata": {
        "collapsed": true,
        "gather": {
          "logged": 1606080051033
        },
        "jupyter": {
          "outputs_hidden": false,
          "source_hidden": false
        },
        "nteract": {
          "transient": {
            "deleting": false
          }
        }
      }
    },
    {
      "cell_type": "markdown",
      "source": [
        "## Best Model\n",
        "\n",
        "TODO: In the cell below, get the best model from the automl experiments and display all the properties of the model.\n",
        "\n"
      ],
      "metadata": {}
    },
    {
      "cell_type": "code",
      "source": [
        "best_automl_run, best_model = remote_run.get_output()\n",
        "print(best_model._final_estimator)"
      ],
      "outputs": [
        {
          "output_type": "stream",
          "name": "stdout",
          "text": [
            "PreFittedSoftVotingClassifier(classification_labels=None,\n",
            "                              estimators=[('22',\n",
            "                                           Pipeline(memory=None,\n",
            "                                                    steps=[('minmaxscaler',\n",
            "                                                            MinMaxScaler(copy=True,\n",
            "                                                                         feature_range=(0,\n",
            "                                                                                        1))),\n",
            "                                                           ('randomforestclassifier',\n",
            "                                                            RandomForestClassifier(bootstrap=True,\n",
            "                                                                                   ccp_alpha=0.0,\n",
            "                                                                                   class_weight=None,\n",
            "                                                                                   criterion='entropy',\n",
            "                                                                                   max_depth=None,\n",
            "                                                                                   max_features=0.3,\n",
            "                                                                                   max_leaf_nodes=None,\n",
            "                                                                                   max_samples=None,\n",
            "                                                                                   m...\n",
            "                                                                                 min_samples_split=0.056842105263157895,\n",
            "                                                                                 min_weight_fraction_leaf=0.0,\n",
            "                                                                                 n_estimators=25,\n",
            "                                                                                 n_jobs=-1,\n",
            "                                                                                 oob_score=True,\n",
            "                                                                                 random_state=None,\n",
            "                                                                                 verbose=0,\n",
            "                                                                                 warm_start=False))],\n",
            "                                                    verbose=False))],\n",
            "                              flatten_transform=None,\n",
            "                              weights=[0.1111111111111111, 0.1111111111111111,\n",
            "                                       0.1111111111111111, 0.1111111111111111,\n",
            "                                       0.1111111111111111, 0.1111111111111111,\n",
            "                                       0.1111111111111111, 0.1111111111111111,\n",
            "                                       0.1111111111111111])\n"
          ]
        }
      ],
      "execution_count": 7,
      "metadata": {
        "gather": {
          "logged": 1606080295814
        },
        "jupyter": {
          "outputs_hidden": false,
          "source_hidden": false
        },
        "nteract": {
          "transient": {
            "deleting": false
          }
        }
      }
    },
    {
      "cell_type": "markdown",
      "source": [
        "## Model Deployment\n",
        "\n",
        "Remember you have to deploy only one of the two models you trained.. Perform the steps in the rest of this notebook only if you wish to deploy this model.\n",
        "\n",
        "TODO: In the cell below, register the model, create an inference config and deploy the model as a web service."
      ],
      "metadata": {}
    },
    {
      "cell_type": "code",
      "source": [
        "model = best_automl_run.register_model(model_name = \"best_heart_failure.pkl\", model_path = './outputs/')\n",
        "model.download() "
      ],
      "outputs": [
        {
          "output_type": "execute_result",
          "execution_count": 12,
          "data": {
            "text/plain": "'outputs'"
          },
          "metadata": {}
        }
      ],
      "execution_count": 12,
      "metadata": {
        "gather": {
          "logged": 1606080901860
        },
        "jupyter": {
          "outputs_hidden": false,
          "source_hidden": false
        },
        "nteract": {
          "transient": {
            "deleting": false
          }
        }
      }
    },
    {
      "cell_type": "code",
      "source": [
        "aci_config = AciWebservice.deploy_configuration(cpu_cores=2, memory_gb=2)\r\n",
        "environment = Environment.from_conda_specification('udacitymlhf', './outputs/conda_env_v_1_0_0.yml')\r\n",
        "inference_config = InferenceConfig(entry_script='score.py', environment=environment)\r\n",
        "\r\n",
        "service = model.deploy(\r\n",
        "    workspace=ws,\r\n",
        "    name=\"udacitymlhf\",\r\n",
        "    models=[model],\r\n",
        "    inference_config=inference_config,\r\n",
        "    deployment_config=aci_config,\r\n",
        "    overwrite=True\r\n",
        ")\r\n",
        "service.wait_for_deployment(show_output=True)"
      ],
      "outputs": [
        {
          "output_type": "stream",
          "name": "stdout",
          "text": [
            "Tips: You can try get_logs(): https://aka.ms/debugimage#dockerlog or local deployment: https://aka.ms/debugimage#debug-locally to debug if deployment takes longer than 10 minutes.\n",
            "Running.......................................\n",
            "Succeeded\n",
            "ACI service creation operation finished, operation \"Succeeded\"\n"
          ]
        }
      ],
      "execution_count": 37,
      "metadata": {
        "collapsed": true,
        "jupyter": {
          "source_hidden": false,
          "outputs_hidden": false
        },
        "nteract": {
          "transient": {
            "deleting": false
          }
        },
        "gather": {
          "logged": 1606085981455
        }
      }
    },
    {
      "cell_type": "code",
      "source": [
        "service.update(enable_app_insights=True)"
      ],
      "outputs": [],
      "execution_count": 38,
      "metadata": {
        "collapsed": true,
        "jupyter": {
          "source_hidden": false,
          "outputs_hidden": false
        },
        "nteract": {
          "transient": {
            "deleting": false
          }
        },
        "gather": {
          "logged": 1606086027273
        }
      }
    },
    {
      "cell_type": "markdown",
      "source": [
        "TODO: In the cell below, send a request to the web service you deployed to test it."
      ],
      "metadata": {
        "collapsed": true,
        "gather": {
          "logged": 1598431657736
        },
        "jupyter": {
          "outputs_hidden": false,
          "source_hidden": false
        },
        "nteract": {
          "transient": {
            "deleting": false
          }
        }
      }
    },
    {
      "cell_type": "code",
      "source": [
        "rid = 8\r\n",
        "x = heart_failure.iloc[rid, :-1].to_dict()\r\n",
        "y = heart_failure.iloc[rid, -1]"
      ],
      "outputs": [],
      "execution_count": 34,
      "metadata": {
        "gather": {
          "logged": 1606085720157
        },
        "jupyter": {
          "outputs_hidden": false,
          "source_hidden": false
        },
        "nteract": {
          "transient": {
            "deleting": false
          }
        }
      }
    },
    {
      "cell_type": "code",
      "source": [
        "import json\r\n",
        "import numpy as np\r\n",
        "input_payload = json.dumps({\r\n",
        "    'data': x\r\n",
        "})\r\n",
        "\r\n",
        "output = service.run(input_payload)\r\n",
        "print(f\"Predicted: {output}\\nExpected: {y}\")"
      ],
      "outputs": [
        {
          "output_type": "stream",
          "name": "stdout",
          "text": [
            "Predicted: [1]\n",
            "Expected: 1\n"
          ]
        }
      ],
      "execution_count": 35,
      "metadata": {
        "collapsed": true,
        "jupyter": {
          "source_hidden": false,
          "outputs_hidden": false
        },
        "nteract": {
          "transient": {
            "deleting": false
          }
        },
        "gather": {
          "logged": 1606085755443
        }
      }
    },
    {
      "cell_type": "markdown",
      "source": [
        "TODO: In the cell below, print the logs of the web service and delete the service"
      ],
      "metadata": {
        "collapsed": true,
        "gather": {
          "logged": 1598432765711
        },
        "jupyter": {
          "outputs_hidden": false,
          "source_hidden": false
        },
        "nteract": {
          "transient": {
            "deleting": false
          }
        }
      }
    },
    {
      "cell_type": "code",
      "source": [
        "logs = service.get_logs()\r\n",
        "print(logs)\r\n",
        "service.delete()"
      ],
      "outputs": [
        {
          "output_type": "stream",
          "name": "stdout",
          "text": [
            "2020-11-22T23:00:41,653956656+00:00 - iot-server/run \n",
            "2020-11-22T23:00:41,655338280+00:00 - rsyslog/run \n",
            "2020-11-22T23:00:41,655870089+00:00 - gunicorn/run \n",
            "2020-11-22T23:00:41,659974658+00:00 - nginx/run \n",
            "/usr/sbin/nginx: /azureml-envs/azureml_99474c16f35a92149d1cc6dec149d8e9/lib/libcrypto.so.1.0.0: no version information available (required by /usr/sbin/nginx)\n",
            "/usr/sbin/nginx: /azureml-envs/azureml_99474c16f35a92149d1cc6dec149d8e9/lib/libcrypto.so.1.0.0: no version information available (required by /usr/sbin/nginx)\n",
            "/usr/sbin/nginx: /azureml-envs/azureml_99474c16f35a92149d1cc6dec149d8e9/lib/libssl.so.1.0.0: no version information available (required by /usr/sbin/nginx)\n",
            "/usr/sbin/nginx: /azureml-envs/azureml_99474c16f35a92149d1cc6dec149d8e9/lib/libssl.so.1.0.0: no version information available (required by /usr/sbin/nginx)\n",
            "/usr/sbin/nginx: /azureml-envs/azureml_99474c16f35a92149d1cc6dec149d8e9/lib/libssl.so.1.0.0: no version information available (required by /usr/sbin/nginx)\n",
            "rsyslogd: /azureml-envs/azureml_99474c16f35a92149d1cc6dec149d8e9/lib/libuuid.so.1: no version information available (required by rsyslogd)\n",
            "EdgeHubConnectionString and IOTEDGE_IOTHUBHOSTNAME are not set. Exiting...\n",
            "2020-11-22T23:00:41,727153897+00:00 - iot-server/finish 1 0\n",
            "2020-11-22T23:00:41,728452219+00:00 - Exit code 1 is normal. Not restarting iot-server.\n",
            "Starting gunicorn 19.9.0\n",
            "Listening at: http://127.0.0.1:31311 (16)\n",
            "Using worker: sync\n",
            "worker timeout is set to 300\n",
            "Booting worker with pid: 44\n",
            "SPARK_HOME not set. Skipping PySpark Initialization.\n",
            "Generating new fontManager, this may take some time...\n",
            "Initializing logger\n",
            "2020-11-22 23:00:44,013 | root | INFO | Starting up app insights client\n",
            "Starting up app insights client\n",
            "2020-11-22 23:00:44,014 | root | INFO | Starting up request id generator\n",
            "Starting up request id generator\n",
            "2020-11-22 23:00:44,014 | root | INFO | Starting up app insight hooks\n",
            "Starting up app insight hooks\n",
            "2020-11-22 23:00:44,014 | root | INFO | Invoking user's init function\n",
            "Invoking user's init function\n",
            "model initialized23:00:44\n",
            "2020-11-22 23:00:44,904 | root | INFO | Users's init has completed successfully\n",
            "Users's init has completed successfully\n",
            "/azureml-envs/azureml_99474c16f35a92149d1cc6dec149d8e9/lib/python3.6/site-packages/sklearn/externals/joblib/__init__.py:15: FutureWarning: sklearn.externals.joblib is deprecated in 0.21 and will be removed in 0.23. Please import this functionality directly from joblib, which can be installed with: pip install joblib. If this warning is raised when loading pickled models, you may need to re-serialize those models with scikit-learn 0.21+.\n",
            "  warnings.warn(msg, category=FutureWarning)\n",
            "2020-11-22 23:00:44,908 | root | INFO | Skipping middleware: dbg_model_info as it's not enabled.\n",
            "Skipping middleware: dbg_model_info as it's not enabled.\n",
            "2020-11-22 23:00:44,908 | root | INFO | Skipping middleware: dbg_resource_usage as it's not enabled.\n",
            "Skipping middleware: dbg_resource_usage as it's not enabled.\n",
            "2020-11-22 23:00:44,960 | root | INFO | Scoring timeout is found from os.environ: 60000 ms\n",
            "Scoring timeout is found from os.environ: 60000 ms\n",
            "2020-11-22 23:00:49,727 | root | INFO | Swagger file not present\n",
            "Swagger file not present\n",
            "2020-11-22 23:00:49,728 | root | INFO | 404\n",
            "404\n",
            "127.0.0.1 - - [22/Nov/2020:23:00:49 +0000] \"GET /swagger.json HTTP/1.0\" 404 19 \"-\" \"Go-http-client/1.1\"\n",
            "2020-11-22 23:01:28,488 | root | INFO | Swagger file not present\n",
            "Swagger file not present\n",
            "2020-11-22 23:01:28,488 | root | INFO | 404\n",
            "404\n",
            "127.0.0.1 - - [22/Nov/2020:23:01:28 +0000] \"GET /swagger.json HTTP/1.0\" 404 19 \"-\" \"Go-http-client/1.1\"\n",
            "\n"
          ]
        }
      ],
      "execution_count": 39,
      "metadata": {
        "jupyter": {
          "outputs_hidden": false,
          "source_hidden": false
        },
        "nteract": {
          "transient": {
            "deleting": false
          }
        },
        "gather": {
          "logged": 1606087624502
        }
      }
    }
  ],
  "metadata": {
    "kernel_info": {
      "name": "python3-azureml"
    },
    "kernelspec": {
      "name": "python3-azureml",
      "language": "python",
      "display_name": "Python 3.6 - AzureML"
    },
    "language_info": {
      "name": "python",
      "version": "3.6.9",
      "mimetype": "text/x-python",
      "codemirror_mode": {
        "name": "ipython",
        "version": 3
      },
      "pygments_lexer": "ipython3",
      "nbconvert_exporter": "python",
      "file_extension": ".py"
    },
    "nteract": {
      "version": "nteract-front-end@1.0.0"
    }
  },
  "nbformat": 4,
  "nbformat_minor": 2
}